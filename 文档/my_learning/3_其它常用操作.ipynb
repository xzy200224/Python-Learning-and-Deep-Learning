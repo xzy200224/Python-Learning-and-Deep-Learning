{
 "cells": [
  {
   "cell_type": "code",
   "execution_count": 3,
   "metadata": {},
   "outputs": [
    {
     "name": "stdout",
     "output_type": "stream",
     "text": [
      "Random tensor:\n",
      "tensor([[0.2961, 0.5166, 0.2517],\n",
      "        [0.6886, 0.0740, 0.8665],\n",
      "        [0.1366, 0.1025, 0.1841]])\n"
     ]
    }
   ],
   "source": [
    "# Random sampling\n",
    "import torch\n",
    "import numpy as np\n",
    "torch.manual_seed(123)  # 设置随机数生成的种子,确保在相同种子的情况下能够复现相同的随机数序列。\n",
    "random_tensor = torch.rand(3, 3)\n",
    "print(\"Random tensor:\")\n",
    "print(random_tensor)"
   ]
  },
  {
   "cell_type": "markdown",
   "metadata": {},
   "source": [
    "### Reduction Ops"
   ]
  },
  {
   "cell_type": "code",
   "execution_count": 4,
   "metadata": {},
   "outputs": [
    {
     "name": "stdout",
     "output_type": "stream",
     "text": [
      "tensor(5)\n",
      "tensor(0)\n"
     ]
    }
   ],
   "source": [
    "# argmax, argmin\n",
    "x = torch.tensor([[1, 2, 3], [4, 5, 6]])\n",
    "max_indices = torch.argmax(x)  # 找到整个张量中最大值的索引\n",
    "print(max_indices)\n",
    "min_indices = torch.argmin(x)  # 找到整个张量中最小值的索引\n",
    "print(min_indices)"
   ]
  },
  {
   "cell_type": "code",
   "execution_count": 5,
   "metadata": {},
   "outputs": [
    {
     "name": "stdout",
     "output_type": "stream",
     "text": [
      "tensor([3, 6])\n",
      "tensor([1, 4])\n"
     ]
    }
   ],
   "source": [
    "# amax,amin在指定维度上找到最大值和最小值\n",
    "x = torch.tensor([[1, 2, 3], [4, 5, 6]])\n",
    "max_values = torch.amax(x, dim=1)  # 在第1维度上找到每行的最大值\n",
    "print(max_values)\n",
    "min_values = torch.amin(x, dim=1)  # 在第1维度上找到每行的最小值\n",
    "print(min_values)"
   ]
  }
 ],
 "metadata": {
  "kernelspec": {
   "display_name": "pytorch",
   "language": "python",
   "name": "python3"
  },
  "language_info": {
   "codemirror_mode": {
    "name": "ipython",
    "version": 3
   },
   "file_extension": ".py",
   "mimetype": "text/x-python",
   "name": "python",
   "nbconvert_exporter": "python",
   "pygments_lexer": "ipython3",
   "version": "3.11.7"
  }
 },
 "nbformat": 4,
 "nbformat_minor": 2
}
