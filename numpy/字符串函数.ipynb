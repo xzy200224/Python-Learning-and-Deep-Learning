{
 "cells": [
  {
   "cell_type": "markdown",
   "metadata": {},
   "source": [
    "NumPy 字符串函数\n",
    "\n",
    "以下函数用于对 dtype 为 numpy.string_ 或 numpy.unicode_ 的数组执行向量化字符串操作。 它们基于 Python 内置库中的标准字符串函数。\n",
    "\n",
    "这些函数在字符数组类（numpy.char）中定义。\n",
    "| 函数        | 描述                                                  |\n",
    "|-------------|-------------------------------------------------------|\n",
    "| add()       | 对两个数组的逐个字符串元素进行连接                    |\n",
    "| multiply()  | 返回按元素多重连接后的字符串                          |\n",
    "| center()    | 居中字符串                                             |\n",
    "| capitalize()| 将字符串第一个字母转换为大写                           |\n",
    "| title()     | 将字符串的每个单词的第一个字母转换为大写              |\n",
    "| lower()     | 数组元素转换为小写                                     |\n",
    "| upper()     | 数组元素转换为大写                                     |\n",
    "| split()     | 指定分隔符对字符串进行分割，并返回数组列表            |\n",
    "| splitlines()| 返回元素中的行列表，以换行符分割                      |\n",
    "| strip()     | 移除元素开头或者结尾处的特定字符                      |\n",
    "| join()      | 通过指定分隔符来连接数组中的元素                      |\n",
    "| replace()   | 使用新字符串替换字符串中的所有子字符串                |\n",
    "| decode()    | 数组元素依次调用str.decode                            |\n",
    "| encode()    | 数组元素依次调用str.encode                            |"
   ]
  },
  {
   "cell_type": "code",
   "execution_count": 1,
   "metadata": {},
   "outputs": [
    {
     "name": "stdout",
     "output_type": "stream",
     "text": [
      "连接两个字符串：\n",
      "['hello xyz']\n",
      "\n",
      "\n",
      "连接示例：\n",
      "['hello abc' 'hi xyz']\n"
     ]
    }
   ],
   "source": [
    "import numpy as np \n",
    " \n",
    "print ('连接两个字符串：')\n",
    "print (np.char.add(['hello'],[' xyz']))\n",
    "print ('\\n')\n",
    " \n",
    "print ('连接示例：')\n",
    "print (np.char.add(['hello', 'hi'],[' abc', ' xyz']))"
   ]
  }
 ],
 "metadata": {
  "kernelspec": {
   "display_name": "pytorch",
   "language": "python",
   "name": "python3"
  },
  "language_info": {
   "codemirror_mode": {
    "name": "ipython",
    "version": 3
   },
   "file_extension": ".py",
   "mimetype": "text/x-python",
   "name": "python",
   "nbconvert_exporter": "python",
   "pygments_lexer": "ipython3",
   "version": "3.11.7"
  }
 },
 "nbformat": 4,
 "nbformat_minor": 2
}
