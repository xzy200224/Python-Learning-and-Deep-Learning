{
 "cells": [
  {
   "cell_type": "markdown",
   "metadata": {},
   "source": [
    "位运算是一种在二进制数字的位级别上进行操作的一类运算，它们直接操作二进制数字的各个位，而不考虑数字的整体值。\n",
    "\n",
    "位运算在计算机科学中广泛应用于优化和处理底层数据。\n",
    "\n",
    "NumPy \"bitwise_\" 开头的函数是位运算函数。\n",
    "\n",
    "NumPy 位运算包括以下几个函数：\n",
    "| 函数         | 描述                                               |\n",
    "|--------------|----------------------------------------------------|\n",
    "| bitwise_and  | 按位与，对数组元素执行位与操作                     |\n",
    "| bitwise_or   | 按位或，对数组元素执行位或操作                     |\n",
    "| bitwise_xor  | 按位异或，每个位上，相同则结果为0，不同则结果为1   |\n",
    "| bitwise_not  | 按位取反，对每个位进行取反操作（0变1，1变0）       |\n",
    "| invert       | 与 `bitwise_not` 相同，按位取反                    |\n",
    "| left_shift   | 左移位运算，将二进制表示向左移动指定数量的位，空位补0 |\n",
    "| right_shift  | 右移位运算，将二进制表示向右移动指定数量的位，空位补0 |"
   ]
  },
  {
   "cell_type": "code",
   "execution_count": 2,
   "metadata": {},
   "outputs": [
    {
     "name": "stdout",
     "output_type": "stream",
     "text": [
      "AND: [False False False]\n",
      "OR: [ True  True  True]\n",
      "XOR: [ True  True  True]\n",
      "NOT: [False  True False]\n",
      "Invert: [-2 -3]\n",
      "Left Shift: 20\n",
      "Right Shift: 5\n"
     ]
    }
   ],
   "source": [
    "import numpy as np\n",
    "\n",
    "arr1 = np.array([True, False, True], dtype=bool)\n",
    "arr2 = np.array([False, True, False], dtype=bool)\n",
    "\n",
    "result_and = np.bitwise_and(arr1, arr2)\n",
    "result_or = np.bitwise_or(arr1, arr2)\n",
    "result_xor = np.bitwise_xor(arr1, arr2)\n",
    "result_not = np.bitwise_not(arr1)\n",
    "\n",
    "print(\"AND:\", result_and)   # [False, False, False]\n",
    "print(\"OR:\", result_or)     # [True, True, True]\n",
    "print(\"XOR:\", result_xor)   # [True, True, True]\n",
    "print(\"NOT:\", result_not)   # [False, True, False]\n",
    "\n",
    "# 按位取反\n",
    "arr_invert = np.invert(np.array([1, 2], dtype=np.int8))\n",
    "print(\"Invert:\", arr_invert)    # [-2, -3]\n",
    "\n",
    "# 左移位运算\n",
    "arr_left_shift = np.left_shift(5, 2)\n",
    "print(\"Left Shift:\", arr_left_shift)    # 20\n",
    "\n",
    "# 右移位运算\n",
    "arr_right_shift = np.right_shift(10, 1)\n",
    "print(\"Right Shift:\", arr_right_shift)  # 5"
   ]
  }
 ],
 "metadata": {
  "kernelspec": {
   "display_name": "pytorch",
   "language": "python",
   "name": "python3"
  },
  "language_info": {
   "codemirror_mode": {
    "name": "ipython",
    "version": 3
   },
   "file_extension": ".py",
   "mimetype": "text/x-python",
   "name": "python",
   "nbconvert_exporter": "python",
   "pygments_lexer": "ipython3",
   "version": "3.11.7"
  }
 },
 "nbformat": 4,
 "nbformat_minor": 2
}
