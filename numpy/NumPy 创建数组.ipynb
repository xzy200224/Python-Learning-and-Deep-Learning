{
 "cells": [
  {
   "cell_type": "code",
   "execution_count": 1,
   "metadata": {},
   "outputs": [
    {
     "name": "stdout",
     "output_type": "stream",
     "text": [
      "[[2949234 6881366]\n",
      " [7602290 6357109]\n",
      " [2097260 6881367]]\n"
     ]
    }
   ],
   "source": [
    "# numpy.empty\n",
    "# numpy.empty(shape, dtype = float, order = 'C')\n",
    "import numpy as np \n",
    "x = np.empty([3,2], dtype = int) \n",
    "print (x)"
   ]
  },
  {
   "cell_type": "code",
   "execution_count": 2,
   "metadata": {},
   "outputs": [
    {
     "name": "stdout",
     "output_type": "stream",
     "text": [
      "[0. 0. 0. 0. 0.]\n",
      "[0 0 0 0 0]\n",
      "[[(0, 0) (0, 0)]\n",
      " [(0, 0) (0, 0)]]\n"
     ]
    }
   ],
   "source": [
    "# numpy.zeros 创建指定大小的数组，数组元素以 0 来填充：\n",
    "# numpy.zeros(shape, dtype = float, order = 'C')\n",
    "# 默认为浮点数\n",
    "x = np.zeros(5) \n",
    "print(x)\n",
    " \n",
    "# 设置类型为整数\n",
    "y = np.zeros((5,), dtype = int) \n",
    "print(y)\n",
    " \n",
    "# 自定义类型\n",
    "z = np.zeros((2,2), dtype = [('x', 'i4'), ('y', 'i4')])  \n",
    "print(z)"
   ]
  },
  {
   "cell_type": "code",
   "execution_count": 3,
   "metadata": {},
   "outputs": [
    {
     "name": "stdout",
     "output_type": "stream",
     "text": [
      "[1. 1. 1. 1. 1.]\n",
      "[[1 1]\n",
      " [1 1]]\n"
     ]
    }
   ],
   "source": [
    "# numpy.ones\n",
    "# 创建指定形状的数组，数组元素以 1 来填充：\n",
    "# numpy.ones(shape, dtype = None, order = 'C')\n",
    "# 默认为浮点数\n",
    "x = np.ones(5) \n",
    "print(x)\n",
    " \n",
    "# 自定义类型\n",
    "x = np.ones([2,2], dtype = int)\n",
    "print(x)"
   ]
  },
  {
   "cell_type": "code",
   "execution_count": 4,
   "metadata": {},
   "outputs": [
    {
     "name": "stdout",
     "output_type": "stream",
     "text": [
      "[[0 0 0]\n",
      " [0 0 0]\n",
      " [0 0 0]]\n"
     ]
    }
   ],
   "source": [
    "\"\"\"\n",
    "numpy.zeros_like 用于创建一个与给定数组具有相同形状的数组，数组元素以 0 来填充。\n",
    "numpy.zeros 和 numpy.zeros_like 都是用于创建一个指定形状的数组，其中所有元素都是 0。\n",
    "它们之间的区别在于：numpy.zeros 可以直接指定要创建的数组的形状，而 numpy.zeros_like 则是创建一个与给定数组具有相同形状的数组。\n",
    "\n",
    "numpy.zeros_like(a, dtype=None, order='K', subok=True, shape=None)\n",
    "\"\"\"\n",
    "# 创建一个 3x3 的二维数组\n",
    "arr = np.array([[1, 2, 3], [4, 5, 6], [7, 8, 9]])\n",
    " \n",
    "# 创建一个与 arr 形状相同的，所有元素都为 0 的数组\n",
    "zeros_arr = np.zeros_like(arr)\n",
    "print(zeros_arr)\n"
   ]
  },
  {
   "cell_type": "code",
   "execution_count": 5,
   "metadata": {},
   "outputs": [
    {
     "name": "stdout",
     "output_type": "stream",
     "text": [
      "[[1 1 1]\n",
      " [1 1 1]\n",
      " [1 1 1]]\n"
     ]
    }
   ],
   "source": [
    "\"\"\"\n",
    "numpy.ones_like 用于创建一个与给定数组具有相同形状的数组，数组元素以 1 来填充。\n",
    "numpy.ones 和 numpy.ones_like 都是用于创建一个指定形状的数组，其中所有元素都是 1。\n",
    "它们之间的区别在于：numpy.ones 可以直接指定要创建的数组的形状，而 numpy.ones_like 则是创建一个与给定数组具有相同形状的数组。\n",
    "numpy.ones_like(a, dtype=None, order='K', subok=True, shape=None)\n",
    "\"\"\"\n",
    "# 创建一个 3x3 的二维数组\n",
    "arr = np.array([[1, 2, 3], [4, 5, 6], [7, 8, 9]])\n",
    " \n",
    "# 创建一个与 arr 形状相同的，所有元素都为 1 的数组\n",
    "ones_arr = np.ones_like(arr)\n",
    "print(ones_arr)"
   ]
  },
  {
   "cell_type": "markdown",
   "metadata": {},
   "source": [
    "## NumPy 从已有的数组创建数组"
   ]
  },
  {
   "cell_type": "code",
   "execution_count": 6,
   "metadata": {},
   "outputs": [
    {
     "name": "stdout",
     "output_type": "stream",
     "text": [
      "[1 2 3]\n"
     ]
    }
   ],
   "source": [
    "# numpy.asarray\n",
    "# numpy.asarray 类似 numpy.array，但 numpy.asarray 参数只有三个，比 numpy.array 少两个。\n",
    "# numpy.asarray(a, dtype = None, order = None)\n",
    "import numpy as np \n",
    " \n",
    "x =  [1,2,3] \n",
    "a = np.asarray(x)  \n",
    "print (a)"
   ]
  },
  {
   "cell_type": "code",
   "execution_count": 7,
   "metadata": {},
   "outputs": [
    {
     "name": "stdout",
     "output_type": "stream",
     "text": [
      "[0. 1. 2. 3. 4.]\n"
     ]
    }
   ],
   "source": [
    "# numpy.fromiter\n",
    "# numpy.fromiter 方法从可迭代对象中建立 ndarray 对象，返回一维数组。\n",
    "# numpy.fromiter(iterable, dtype, count=-1)\n",
    "# 使用 range 函数创建列表对象  \n",
    "list=range(5)\n",
    "it=iter(list)\n",
    " \n",
    "# 使用迭代器创建 ndarray \n",
    "x=np.fromiter(it, dtype=float)\n",
    "print(x)"
   ]
  },
  {
   "cell_type": "markdown",
   "metadata": {},
   "source": [
    "## NumPy 从数值范围创建数组"
   ]
  },
  {
   "cell_type": "code",
   "execution_count": 10,
   "metadata": {},
   "outputs": [
    {
     "name": "stdout",
     "output_type": "stream",
     "text": [
      "[0 1 2 3 4]\n",
      "[10 12 14 16 18]\n"
     ]
    }
   ],
   "source": [
    "# numpy.arange\n",
    "# numpy 包中的使用 arange 函数创建数值范围并返回 ndarray 对象，函数格式如下：\n",
    "\n",
    "# numpy.arange(start, stop, step, dtype)\n",
    "# 根据 start 与 stop 指定的范围以及 step 设定的步长，生成一个 ndarray。\n",
    "import numpy as np\n",
    "# 生成 0 到 4 长度为 5 的数组: \n",
    "x = np.arange(5)  \n",
    "print (x)\n",
    "x = np.arange(10,20,2)  \n",
    "print (x)"
   ]
  },
  {
   "cell_type": "code",
   "execution_count": 11,
   "metadata": {},
   "outputs": [
    {
     "name": "stdout",
     "output_type": "stream",
     "text": [
      "[ 1.  2.  3.  4.  5.  6.  7.  8.  9. 10.]\n"
     ]
    }
   ],
   "source": [
    "\"\"\"\n",
    "numpy.linspace\n",
    "numpy.linspace 函数用于创建一个一维数组，数组是一个等差数列构成的，格式如下：\n",
    "\n",
    "np.linspace(start, stop, num=50, endpoint=True, retstep=False, dtype=None)\n",
    "参数说明：\n",
    "\n",
    "参数\t描述\n",
    "start\t序列的起始值\n",
    "stop\t序列的终止值，如果endpoint为true，该值包含于数列中\n",
    "num\t要生成的等步长的样本数量，默认为50\n",
    "endpoint\t该值为 true 时，数列中包含stop值，反之不包含，默认是True。\n",
    "retstep\t如果为 True 时，生成的数组中会显示间距，反之不显示。\n",
    "dtype\tndarray 的数据类型\n",
    "以下实例用到三个参数，设置起始点为 1 ，终止点为 10，数列个数为 10。\n",
    "\"\"\"\n",
    "a = np.linspace(1,10,10)\n",
    "print(a)"
   ]
  },
  {
   "cell_type": "code",
   "execution_count": 12,
   "metadata": {},
   "outputs": [
    {
     "name": "stdout",
     "output_type": "stream",
     "text": [
      "[ 10.          12.91549665  16.68100537  21.5443469   27.82559402\n",
      "  35.93813664  46.41588834  59.94842503  77.42636827 100.        ]\n"
     ]
    }
   ],
   "source": [
    "\"\"\"\n",
    "numpy.logspace\n",
    "numpy.logspace 函数用于创建一个于等比数列。格式如下：\n",
    "\n",
    "np.logspace(start, stop, num=50, endpoint=True, base=10.0, dtype=None)\n",
    "base 参数意思是取对数的时候 log 的下标。\n",
    "\n",
    "参数\t描述\n",
    "start\t序列的起始值为：base ** start\n",
    "stop\t序列的终止值为：base ** stop。如果endpoint为true，该值包含于数列中\n",
    "num\t要生成的等步长的样本数量，默认为50\n",
    "endpoint\t该值为 true 时，数列中中包含stop值，反之不包含，默认是True。\n",
    "base\t对数 log 的底数。\n",
    "dtype\tndarray 的数据类型\n",
    "\"\"\"\n",
    "# 默认底数是 10\n",
    "a = np.logspace(1.0,  2.0, num =  10)  \n",
    "print (a)"
   ]
  },
  {
   "cell_type": "code",
   "execution_count": null,
   "metadata": {},
   "outputs": [],
   "source": []
  }
 ],
 "metadata": {
  "kernelspec": {
   "display_name": "pytorch",
   "language": "python",
   "name": "python3"
  },
  "language_info": {
   "codemirror_mode": {
    "name": "ipython",
    "version": 3
   },
   "file_extension": ".py",
   "mimetype": "text/x-python",
   "name": "python",
   "nbconvert_exporter": "python",
   "pygments_lexer": "ipython3",
   "version": "3.11.7"
  }
 },
 "nbformat": 4,
 "nbformat_minor": 2
}
