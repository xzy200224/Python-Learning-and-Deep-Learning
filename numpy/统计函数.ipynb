{
 "cells": [
  {
   "cell_type": "markdown",
   "metadata": {},
   "source": [
    "## numpy.amin() 和 numpy.amax()\n",
    "numpy.amin() 用于计算数组中的元素沿指定轴的最小值。\n",
    "\n",
    "numpy.amin(a, axis=None, out=None, keepdims=<no value>, initial=<no value>, where=<no value>)\n",
    "参数说明：\n",
    "\n",
    "a: 输入的数组，可以是一个NumPy数组或类似数组的对象。\n",
    "\n",
    "axis: 可选参数，用于指定在哪个轴上计算最小值。如果不提供此参数，则返回整个数组的最小值。可以是一个整数表示轴的索引，也可以是一个元组表示多个轴。\n",
    "\n",
    "out: 可选参数，用于指定结果的存储位置。\n",
    "\n",
    "keepdims: 可选参数，如果为True，将保持结果数组的维度数目与输入数组相同。如果为False（默认值），则会去除计算后维度为1的轴。\n",
    "\n",
    "initial: 可选参数，用于指定一个初始值，然后在数组的元素上计算最小值。\n",
    "\n",
    "where: 可选参数，一个布尔数组，用于指定仅考虑满足条件的元素。\n",
    "\n",
    "numpy.amax() 用于计算数组中的元素沿指定轴的最大值。\n",
    "\n",
    "numpy.amax(a, axis=None, out=None, keepdims=<no value>, initial=<no value>, where=<no value>)\n",
    "参数说明：\n",
    "\n",
    "a: 输入的数组，可以是一个NumPy数组或类似数组的对象。\n",
    "\n",
    "axis: 可选参数，用于指定在哪个轴上计算最大值。如果不提供此参数，则返回整个数组的最大值。可以是一个整数表示轴的索引，也可以是一个元组表示多个轴。\n",
    "\n",
    "out: 可选参数，用于指定结果的存储位置。\n",
    "\n",
    "keepdims: 可选参数，如果为True，将保持结果数组的维度数目与输入数组相同。如果为False（默认值），则会去除计算后维度为1的轴。\n",
    "\n",
    "initial: 可选参数，用于指定一个初始值，然后在数组的元素上计算最大值。\n",
    "\n",
    "where: 可选参数，一个布尔数组，用于指定仅考虑满足条件的元素。"
   ]
  },
  {
   "cell_type": "code",
   "execution_count": 1,
   "metadata": {},
   "outputs": [
    {
     "name": "stdout",
     "output_type": "stream",
     "text": [
      "我们的数组是：\n",
      "[[3 7 5]\n",
      " [8 4 3]\n",
      " [2 4 9]]\n",
      "\n",
      "\n",
      "调用 amin() 函数：\n",
      "[3 3 2]\n",
      "\n",
      "\n",
      "再次调用 amin() 函数：\n",
      "[2 4 3]\n",
      "\n",
      "\n",
      "调用 amax() 函数：\n",
      "9\n",
      "\n",
      "\n",
      "再次调用 amax() 函数：\n",
      "[8 7 9]\n"
     ]
    }
   ],
   "source": [
    "import numpy as np \n",
    " \n",
    "a = np.array([[3,7,5],[8,4,3],[2,4,9]])  \n",
    "print ('我们的数组是：')\n",
    "print (a)\n",
    "print ('\\n')\n",
    "print ('调用 amin() 函数：')\n",
    "print (np.amin(a,1))\n",
    "print ('\\n')\n",
    "print ('再次调用 amin() 函数：')\n",
    "print (np.amin(a,0))\n",
    "print ('\\n')\n",
    "print ('调用 amax() 函数：')\n",
    "print (np.amax(a))\n",
    "print ('\\n')\n",
    "print ('再次调用 amax() 函数：')\n",
    "print (np.amax(a, axis =  0))"
   ]
  },
  {
   "cell_type": "markdown",
   "metadata": {},
   "source": [
    "## numpy.ptp()\n",
    "numpy.ptp() 函数计算数组中元素最大值与最小值的差（最大值 - 最小值）。\n",
    "\n",
    "numpy.ptp(a, axis=None, out=None, keepdims=<no value>, initial=<no value>, where=<no value>)\n",
    "参数说明：\n",
    "\n",
    "a: 输入的数组，可以是一个 NumPy 数组或类似数组的对象。\n",
    "\n",
    "axis: 可选参数，用于指定在哪个轴上计算峰-峰值。如果不提供此参数，则返回整个数组的峰-峰值。可以是一个整数表示轴的索引，也可以是一个元组表示多个轴。\n",
    "\n",
    "out: 可选参数，用于指定结果的存储位置。\n",
    "\n",
    "keepdims: 可选参数，如果为 True，将保持结果数组的维度数目与输入数组相同。如果为 False（默认值），则会去除计算后维度为1的轴。\n",
    "\n",
    "initial: 可选参数，用于指定一个初始值，然后在数组的元素上计算峰-峰值。\n",
    "\n",
    "where: 可选参数，一个布尔数组，用于指定仅考虑满足条件的元素。"
   ]
  },
  {
   "cell_type": "code",
   "execution_count": 2,
   "metadata": {},
   "outputs": [
    {
     "name": "stdout",
     "output_type": "stream",
     "text": [
      "我们的数组是：\n",
      "[[3 7 5]\n",
      " [8 4 3]\n",
      " [2 4 9]]\n",
      "\n",
      "\n",
      "调用 ptp() 函数：\n",
      "7\n",
      "\n",
      "\n",
      "沿轴 1 调用 ptp() 函数：\n",
      "[4 5 7]\n",
      "\n",
      "\n",
      "沿轴 0 调用 ptp() 函数：\n",
      "[6 3 6]\n"
     ]
    }
   ],
   "source": [
    "a = np.array([[3,7,5],[8,4,3],[2,4,9]])  \n",
    "print ('我们的数组是：')\n",
    "print (a)\n",
    "print ('\\n')\n",
    "print ('调用 ptp() 函数：')\n",
    "print (np.ptp(a))\n",
    "print ('\\n')\n",
    "print ('沿轴 1 调用 ptp() 函数：')\n",
    "print (np.ptp(a, axis =  1))\n",
    "print ('\\n')\n",
    "print ('沿轴 0 调用 ptp() 函数：')\n",
    "print (np.ptp(a, axis =  0))"
   ]
  },
  {
   "cell_type": "markdown",
   "metadata": {},
   "source": [
    "## numpy.percentile()\n",
    "百分位数是统计中使用的度量，表示小于这个值的观察值的百分比。 函数numpy.percentile()接受以下参数。\n",
    "\n",
    "numpy.percentile(a, q, axis)\n",
    "参数说明：\n",
    "\n",
    "a: 输入数组\n",
    "\n",
    "q: 要计算的百分位数，在 0 ~ 100 之间\n",
    "\n",
    "axis: 沿着它计算百分位数的轴"
   ]
  },
  {
   "cell_type": "code",
   "execution_count": 3,
   "metadata": {},
   "outputs": [
    {
     "name": "stdout",
     "output_type": "stream",
     "text": [
      "我们的数组是：\n",
      "[[10  7  4]\n",
      " [ 3  2  1]]\n",
      "调用 percentile() 函数：\n",
      "3.5\n",
      "[6.5 4.5 2.5]\n",
      "[7. 2.]\n",
      "[[7.]\n",
      " [2.]]\n"
     ]
    }
   ],
   "source": [
    "a = np.array([[10, 7, 4], [3, 2, 1]])\n",
    "print ('我们的数组是：')\n",
    "print (a)\n",
    " \n",
    "print ('调用 percentile() 函数：')\n",
    "# 50% 的分位数，就是 a 里排序之后的中位数\n",
    "print (np.percentile(a, 50)) \n",
    " \n",
    "# axis 为 0，在纵列上求\n",
    "print (np.percentile(a, 50, axis=0)) \n",
    " \n",
    "# axis 为 1，在横行上求\n",
    "print (np.percentile(a, 50, axis=1)) \n",
    " \n",
    "# 保持维度不变\n",
    "print (np.percentile(a, 50, axis=1, keepdims=True))"
   ]
  },
  {
   "cell_type": "markdown",
   "metadata": {},
   "source": [
    "## numpy.median()\n",
    "numpy.median() 函数用于计算数组 a 中元素的中位数（中值）\n",
    "\n",
    "numpy.median(a, axis=None, out=None, overwrite_input=False, keepdims=<no value>)\n",
    "参数说明：\n",
    "\n",
    "a: 输入的数组，可以是一个 NumPy 数组或类似数组的对象。\n",
    "\n",
    "axis: 可选参数，用于指定在哪个轴上计算中位数。如果不提供此参数，则计算整个数组的中位数。可以是一个整数表示轴的索引，也可以是一个元组表示多个轴。\n",
    "\n",
    "out: 可选参数，用于指定结果的存储位置。\n",
    "\n",
    "overwrite_input: 可选参数，如果为True，则允许在计算中使用输入数组的内存。这可能会在某些情况下提高性能，但可能会修改输入数组的内容。\n",
    "\n",
    "keepdims: 可选参数，如果为True，将保持结果数组的维度数目与输入数组相同。如果为False（默认值），则会去除计算后维度为1的轴。"
   ]
  },
  {
   "cell_type": "code",
   "execution_count": 4,
   "metadata": {},
   "outputs": [
    {
     "name": "stdout",
     "output_type": "stream",
     "text": [
      "我们的数组是：\n",
      "[[30 65 70]\n",
      " [80 95 10]\n",
      " [50 90 60]]\n",
      "\n",
      "\n",
      "调用 median() 函数：\n",
      "65.0\n",
      "\n",
      "\n",
      "沿轴 0 调用 median() 函数：\n",
      "[50. 90. 60.]\n",
      "\n",
      "\n",
      "沿轴 1 调用 median() 函数：\n",
      "[65. 80. 60.]\n"
     ]
    }
   ],
   "source": [
    "import numpy as np \n",
    " \n",
    "a = np.array([[30,65,70],[80,95,10],[50,90,60]])  \n",
    "print ('我们的数组是：')\n",
    "print (a)\n",
    "print ('\\n')\n",
    "print ('调用 median() 函数：')\n",
    "print (np.median(a))\n",
    "print ('\\n')\n",
    "print ('沿轴 0 调用 median() 函数：')\n",
    "print (np.median(a, axis =  0))\n",
    "print ('\\n')\n",
    "print ('沿轴 1 调用 median() 函数：')\n",
    "print (np.median(a, axis =  1))"
   ]
  },
  {
   "cell_type": "markdown",
   "metadata": {},
   "source": [
    "## numpy.mean()\n",
    "numpy.mean() 函数返回数组中元素的算术平均值，如果提供了轴，则沿其计算。\n",
    "\n",
    "算术平均值是沿轴的元素的总和除以元素的数量。\n",
    "\n",
    "numpy.mean(a, axis=None, dtype=None, out=None, keepdims=<no value>)\n",
    "参数说明：\n",
    "\n",
    "a: 输入的数组，可以是一个 NumPy 数组或类似数组的对象。\n",
    "\n",
    "axis: 可选参数，用于指定在哪个轴上计算平均值。如果不提供此参数，则计算整个数组的平均值。可以是一个整数表示轴的索引，也可以是一个元组表示多个轴。\n",
    "\n",
    "dtype: 可选参数，用于指定输出的数据类型。如果不提供，则根据输入数据的类型选择合适的数据类型。\n",
    "\n",
    "out: 可选参数，用于指定结果的存储位置。\n",
    "\n",
    "keepdims: 可选参数，如果为True，将保持结果数组的维度数目与输入数组相同。如果为False（默认值），则会去除计算后维度为1的轴。"
   ]
  },
  {
   "cell_type": "code",
   "execution_count": 5,
   "metadata": {},
   "outputs": [
    {
     "name": "stdout",
     "output_type": "stream",
     "text": [
      "我们的数组是：\n",
      "[[1 2 3]\n",
      " [3 4 5]\n",
      " [4 5 6]]\n",
      "\n",
      "\n",
      "调用 mean() 函数：\n",
      "3.6666666666666665\n",
      "\n",
      "\n",
      "沿轴 0 调用 mean() 函数：\n",
      "[2.66666667 3.66666667 4.66666667]\n",
      "\n",
      "\n",
      "沿轴 1 调用 mean() 函数：\n",
      "[2. 4. 5.]\n"
     ]
    }
   ],
   "source": [
    "import numpy as np \n",
    " \n",
    "a = np.array([[1,2,3],[3,4,5],[4,5,6]])  \n",
    "print ('我们的数组是：')\n",
    "print (a)\n",
    "print ('\\n')\n",
    "print ('调用 mean() 函数：')\n",
    "print (np.mean(a))\n",
    "print ('\\n')\n",
    "print ('沿轴 0 调用 mean() 函数：')\n",
    "print (np.mean(a, axis =  0))\n",
    "print ('\\n')\n",
    "print ('沿轴 1 调用 mean() 函数：')\n",
    "print (np.mean(a, axis =  1))"
   ]
  },
  {
   "cell_type": "markdown",
   "metadata": {},
   "source": [
    "## numpy.average()\n",
    "numpy.average() 函数根据在另一个数组中给出的各自的权重计算数组中元素的加权平均值。\n",
    "\n",
    "该函数可以接受一个轴参数。 如果没有指定轴，则数组会被展开。\n",
    "\n",
    "加权平均值即将各数值乘以相应的权数，然后加总求和得到总体值，再除以总的单位数。\n",
    "\n",
    "考虑数组[1,2,3,4]和相应的权重[4,3,2,1]，通过将相应元素的乘积相加，并将和除以权重的和，来计算加权平均值。\n",
    "\n",
    "加权平均值 = (1*4+2*3+3*2+4*1)/(4+3+2+1)\n",
    "函数语法：\n",
    "\n",
    "numpy.average(a, axis=None, weights=None, returned=False)\n",
    "参数说明：\n",
    "\n",
    "a: 输入的数组，可以是一个 NumPy 数组或类似数组的对象。\n",
    "\n",
    "axis: 可选参数，用于指定在哪个轴上计算加权平均值。如果不提供此参数，则计算整个数组的加权平均值。可以是一个整数表示轴的索引，也可以是一个元组表示多个轴。\n",
    "\n",
    "weights: 可选参数，用于指定对应数据点的权重。如果不提供权重数组，则默认为等权重。\n",
    "\n",
    "returned: 可选参数，如果为True，将同时返回加权平均值和权重总和。"
   ]
  },
  {
   "cell_type": "code",
   "execution_count": 6,
   "metadata": {},
   "outputs": [
    {
     "name": "stdout",
     "output_type": "stream",
     "text": [
      "我们的数组是：\n",
      "[1 2 3 4]\n",
      "\n",
      "\n",
      "调用 average() 函数：\n",
      "2.5\n",
      "\n",
      "\n",
      "再次调用 average() 函数：\n",
      "2.0\n",
      "\n",
      "\n",
      "权重的和：\n",
      "(2.0, 10.0)\n"
     ]
    }
   ],
   "source": [
    "import numpy as np \n",
    " \n",
    "a = np.array([1,2,3,4])  \n",
    "print ('我们的数组是：')\n",
    "print (a)\n",
    "print ('\\n')\n",
    "print ('调用 average() 函数：')\n",
    "print (np.average(a))\n",
    "print ('\\n')\n",
    "# 不指定权重时相当于 mean 函数\n",
    "wts = np.array([4,3,2,1])  \n",
    "print ('再次调用 average() 函数：')\n",
    "print (np.average(a,weights = wts))\n",
    "print ('\\n')\n",
    "# 如果 returned 参数设为 true，则返回权重的和  \n",
    "print ('权重的和：')\n",
    "print (np.average([1,2,3,  4],weights =  [4,3,2,1], returned =  True))"
   ]
  },
  {
   "cell_type": "markdown",
   "metadata": {},
   "source": [
    "## 标准差\n",
    "标准差是一组数据平均值分散程度的一种度量。\n",
    "\n",
    "标准差是方差的算术平方根。\n",
    "\n",
    "标准差公式如下：\n",
    "\n",
    "std = sqrt(mean((x - x.mean())**2))\n",
    "\n",
    "如果数组是 [1，2，3，4]，则其平均值为 2.5。 因此，差的平方是 [2.25,0.25,0.25,2.25]，并且再求其平均值的平方根除以 4，即 sqrt(5/4) ，结果为 1.1180339887498949。"
   ]
  },
  {
   "cell_type": "code",
   "execution_count": 7,
   "metadata": {},
   "outputs": [
    {
     "name": "stdout",
     "output_type": "stream",
     "text": [
      "1.118033988749895\n"
     ]
    }
   ],
   "source": [
    "print (np.std([1,2,3,4]))"
   ]
  },
  {
   "cell_type": "markdown",
   "metadata": {},
   "source": [
    "## 方差\n",
    "统计中的方差（样本方差）是每个样本值与全体样本值的平均数之差的平方值的平均数，即 mean((x - x.mean())** 2)。\n",
    "\n",
    "换句话说，标准差是方差的平方根。"
   ]
  },
  {
   "cell_type": "code",
   "execution_count": 8,
   "metadata": {},
   "outputs": [
    {
     "name": "stdout",
     "output_type": "stream",
     "text": [
      "1.25\n"
     ]
    }
   ],
   "source": [
    "print (np.var([1,2,3,4]))"
   ]
  }
 ],
 "metadata": {
  "kernelspec": {
   "display_name": "pytorch",
   "language": "python",
   "name": "python3"
  },
  "language_info": {
   "codemirror_mode": {
    "name": "ipython",
    "version": 3
   },
   "file_extension": ".py",
   "mimetype": "text/x-python",
   "name": "python",
   "nbconvert_exporter": "python",
   "pygments_lexer": "ipython3",
   "version": "3.11.7"
  }
 },
 "nbformat": 4,
 "nbformat_minor": 2
}
