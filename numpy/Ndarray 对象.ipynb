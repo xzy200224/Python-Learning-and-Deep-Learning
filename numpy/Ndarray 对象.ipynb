{
 "cells": [
  {
   "cell_type": "markdown",
   "metadata": {},
   "source": [
    "## Ndarray 对象\n",
    "numpy.array(object, dtype = None, copy = True, order = None, subok = False, ndmin = 0)\n",
    "\n",
    "\n",
    "| 参数   | 描述                           |\n",
    "|--------|--------------------------------|\n",
    "| object | 数组或嵌套的数列                 |\n",
    "| dtype  | 数组元素的数据类型，可选         |\n",
    "| copy   | 对象是否需要复制，可选           |\n",
    "| order  | 创建数组的样式，C为行方向，F为列方向，A为任意方向（默认） |\n",
    "| subok  | 默认返回一个与基类类型一致的数组 |\n",
    "| ndmin  | 指定生成数组的最小维度           |"
   ]
  },
  {
   "cell_type": "code",
   "execution_count": 2,
   "metadata": {},
   "outputs": [
    {
     "data": {
      "text/plain": [
       "(array([1, 2, 3]),\n",
       " array([[1, 2],\n",
       "        [3, 4]]),\n",
       " array([[1, 2, 3, 4, 5]]),\n",
       " array([1.+0.j, 2.+0.j, 3.+0.j]))"
      ]
     },
     "execution_count": 2,
     "metadata": {},
     "output_type": "execute_result"
    }
   ],
   "source": [
    "import numpy as np \n",
    "a = np.array([1,2,3])  \n",
    "b = np.array([[1,  2],  [3,  4]])  \n",
    "c = np.array([1, 2, 3, 4, 5], ndmin =  2) \n",
    "d = np.array([1,  2,  3], dtype = complex)  \n",
    "a, b, c, d"
   ]
  },
  {
   "cell_type": "markdown",
   "metadata": {},
   "source": [
    "## NumPy 数据类型\n",
    "数据类型对象（numpy.dtype 类的实例）用来描述与数组对应的内存区域是如何使用，它描述了数据的以下几个方面：：\n",
    "\n",
    "• 数据的类型（整数、浮点数或Python对象）\n",
    "• 数据的大小（例如，整数使用多少个字节存储）\n",
    "• 数据的字节顺序（小端法或大端法）\n",
    "• 在结构化类型的情况下，字段的名称、每个字段的数据类型和每个字段所占的内存块的部分\n",
    "• 如果数据类型是子数组，那么它的形状和数据类型是什么。\n",
    "\n",
    "dtype 对象是使用以下语法构造的：\n",
    "\n",
    "numpy.dtype(object, align, copy)"
   ]
  },
  {
   "cell_type": "code",
   "execution_count": 3,
   "metadata": {},
   "outputs": [
    {
     "data": {
      "text/plain": [
       "(dtype('int32'),\n",
       " dtype('int32'),\n",
       " dtype('int32'),\n",
       " dtype([('name', '<U20'), ('age', '<i4'), ('weight', '<f8')]),\n",
       " array([('John', 25, 68.5), ('Emily', 30, 55.2)],\n",
       "       dtype=[('name', '<U20'), ('age', '<i4'), ('weight', '<f8')]),\n",
       " array(['John', 'Emily'], dtype='<U20'))"
      ]
     },
     "execution_count": 3,
     "metadata": {},
     "output_type": "execute_result"
    }
   ],
   "source": [
    "# 使用标量类型\n",
    "dt = np.dtype(np.int32)\n",
    "# int8, int16, int32, int64 四种数据类型可以使用字符串 'i1', 'i2','i4','i8' 代替\n",
    "dt2 = np.dtype('i4')\n",
    "# 字节顺序标注\n",
    "dt3 = np.dtype('<i4')\n",
    "# 创建结构化数据类型\n",
    "dt4 = np.dtype([('name', np.str_, 20), ('age', np.int32), ('weight', np.float64)])\n",
    "# 创建结构化数组\n",
    "data = np.array([('John', 25, 68.5), ('Emily', 30, 55.2)], dtype=dt4)\n",
    "dt, dt2, dt3, dt4, data, data['name']"
   ]
  },
  {
   "cell_type": "markdown",
   "metadata": {},
   "source": [
    "## NumPy 数组属性\n",
    "属性             | 说明\n",
    "---------------|--------------------------\n",
    "ndarray.ndim   | 秩，即轴的数量或维度的数量\n",
    "ndarray.shape  | 数组的维度，对于矩阵，n行m列\n",
    "ndarray.size   | 数组元素的总个数，相当于.shape中n\\*m的值\n",
    "ndarray.dtype  | ndarray对象的元素类型\n",
    "ndarray.itemsize | ndarray对象中每个元素的大小，以字节为单位\n",
    "ndarray.flags  | ndarray对象的内存信息\n",
    "ndarray.real   | ndarray元素的实部\n",
    "ndarray.imag   | ndarray元素的虚部\n",
    "ndarray.data   | 包含实际数组元素的缓冲区，由于一般通过数组的索引获取元素，所以通常不需要使用这个属性。\n",
    "ndarray.T | 对数组进行转置"
   ]
  },
  {
   "cell_type": "code",
   "execution_count": 4,
   "metadata": {},
   "outputs": [
    {
     "name": "stdout",
     "output_type": "stream",
     "text": [
      "1\n",
      "3\n"
     ]
    }
   ],
   "source": [
    "# ndarray.ndim 用于返回数组的维数\n",
    "a = np.arange(24)  \n",
    "print (a.ndim)             # a 现只有一个维度\n",
    "# 现在调整其大小\n",
    "b = a.reshape(2,4,3)  # b 现在拥有三个维度\n",
    "print (b.ndim)"
   ]
  },
  {
   "cell_type": "code",
   "execution_count": 5,
   "metadata": {},
   "outputs": [
    {
     "name": "stdout",
     "output_type": "stream",
     "text": [
      "(2, 3)\n"
     ]
    }
   ],
   "source": [
    "# ndarray.shape 返回数组维度\n",
    "a = np.array([[1,2,3],[4,5,6]])  \n",
    "print (a.shape)"
   ]
  },
  {
   "cell_type": "code",
   "execution_count": 6,
   "metadata": {},
   "outputs": [
    {
     "name": "stdout",
     "output_type": "stream",
     "text": [
      "[[1 2]\n",
      " [3 4]\n",
      " [5 6]]\n"
     ]
    }
   ],
   "source": [
    "# reshape 返回指定shape的新数组\n",
    "a = np.array([[1,2,3],[4,5,6]]) \n",
    "b = a.reshape(3,2)  \n",
    "print (b)"
   ]
  },
  {
   "cell_type": "code",
   "execution_count": 7,
   "metadata": {},
   "outputs": [
    {
     "name": "stdout",
     "output_type": "stream",
     "text": [
      "1\n",
      "8\n"
     ]
    }
   ],
   "source": [
    "# ndarray.itemsize 以字节的形式返回数组中每一个元素的大小。\n",
    "# 数组的 dtype 为 int8（一个字节）  \n",
    "x = np.array([1,2,3,4,5], dtype = np.int8)  \n",
    "print (x.itemsize)\n",
    " \n",
    "# 数组的 dtype 现在为 float64（八个字节） \n",
    "y = np.array([1,2,3,4,5], dtype = np.float64)  \n",
    "print (y.itemsize)"
   ]
  },
  {
   "cell_type": "code",
   "execution_count": 8,
   "metadata": {},
   "outputs": [
    {
     "name": "stdout",
     "output_type": "stream",
     "text": [
      "  C_CONTIGUOUS : True\n",
      "  F_CONTIGUOUS : True\n",
      "  OWNDATA : True\n",
      "  WRITEABLE : True\n",
      "  ALIGNED : True\n",
      "  WRITEBACKIFCOPY : False\n",
      "\n"
     ]
    }
   ],
   "source": [
    "# ndarray.flags 返回 ndarray 对象的内存信息\n",
    "x = np.array([1,2,3,4,5])  \n",
    "print (x.flags)"
   ]
  },
  {
   "cell_type": "code",
   "execution_count": null,
   "metadata": {},
   "outputs": [],
   "source": []
  }
 ],
 "metadata": {
  "kernelspec": {
   "display_name": "pytorch",
   "language": "python",
   "name": "python3"
  },
  "language_info": {
   "codemirror_mode": {
    "name": "ipython",
    "version": 3
   },
   "file_extension": ".py",
   "mimetype": "text/x-python",
   "name": "python",
   "nbconvert_exporter": "python",
   "pygments_lexer": "ipython3",
   "version": "3.11.7"
  }
 },
 "nbformat": 4,
 "nbformat_minor": 2
}
