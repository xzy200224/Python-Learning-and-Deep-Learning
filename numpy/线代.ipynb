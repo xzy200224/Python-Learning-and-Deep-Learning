{
 "cells": [
  {
   "cell_type": "markdown",
   "metadata": {},
   "source": [
    "| 函数        | 描述                                     |\n",
    "|-------------|------------------------------------------|\n",
    "| dot         | 两个数组的点积，即元素对应相乘。        |\n",
    "| vdot        | 两个向量的点积。                         |\n",
    "| inner       | 两个数组的内积。                         |\n",
    "| matmul      | 两个数组的矩阵积。                       |\n",
    "| determinant | 数组的行列式。                           |\n",
    "| solve       | 求解线性矩阵方程。                       |\n",
    "| inv         | 计算矩阵的乘法逆矩阵。                   |"
   ]
  },
  {
   "cell_type": "code",
   "execution_count": null,
   "metadata": {},
   "outputs": [],
   "source": []
  }
 ],
 "metadata": {
  "language_info": {
   "name": "python"
  }
 },
 "nbformat": 4,
 "nbformat_minor": 2
}
