{
 "cells": [
  {
   "cell_type": "markdown",
   "id": "b867430b",
   "metadata": {
    "slideshow": {
     "slide_type": "-"
    }
   },
   "source": [
    "# GPU\n",
    "\n",
    "查看显卡信息"
   ]
  },
  {
   "cell_type": "code",
   "execution_count": 1,
   "id": "369d9baa",
   "metadata": {
    "execution": {
     "iopub.execute_input": "2023-08-18T06:58:06.499888Z",
     "iopub.status.busy": "2023-08-18T06:58:06.499324Z",
     "iopub.status.idle": "2023-08-18T06:58:06.859541Z",
     "shell.execute_reply": "2023-08-18T06:58:06.858210Z"
    },
    "origin_pos": 1,
    "tab": [
     "pytorch"
    ]
   },
   "outputs": [
    {
     "name": "stdout",
     "output_type": "stream",
     "text": [
      "Fri Aug 18 06:58:06 2023       \r\n",
      "+-----------------------------------------------------------------------------+\r\n",
      "| NVIDIA-SMI 470.161.03   Driver Version: 470.161.03   CUDA Version: 11.7     |\r\n",
      "|-------------------------------+----------------------+----------------------+\r\n",
      "| GPU  Name        Persistence-M| Bus-Id        Disp.A | Volatile Uncorr. ECC |\r\n",
      "| Fan  Temp  Perf  Pwr:Usage/Cap|         Memory-Usage | GPU-Util  Compute M. |\r\n",
      "|                               |                      |               MIG M. |\r\n",
      "|===============================+======================+======================|\r\n",
      "|   0  Tesla V100-SXM2...  Off  | 00000000:00:1B.0 Off |                    0 |\r\n",
      "| N/A   41C    P0    42W / 300W |      0MiB / 16160MiB |      0%      Default |\r\n",
      "|                               |                      |                  N/A |\r\n",
      "+-------------------------------+----------------------+----------------------+\r\n"
     ]
    },
    {
     "name": "stdout",
     "output_type": "stream",
     "text": [
      "|   1  Tesla V100-SXM2...  Off  | 00000000:00:1C.0 Off |                    0 |\r\n",
      "| N/A   44C    P0   113W / 300W |   1456MiB / 16160MiB |     53%      Default |\r\n",
      "|                               |                      |                  N/A |\r\n",
      "+-------------------------------+----------------------+----------------------+\r\n",
      "|   2  Tesla V100-SXM2...  Off  | 00000000:00:1D.0 Off |                    0 |\r\n",
      "| N/A   43C    P0   120W / 300W |   1358MiB / 16160MiB |     55%      Default |\r\n",
      "|                               |                      |                  N/A |\r\n",
      "+-------------------------------+----------------------+----------------------+\r\n",
      "|   3  Tesla V100-SXM2...  Off  | 00000000:00:1E.0 Off |                    0 |\r\n",
      "| N/A   42C    P0    47W / 300W |      0MiB / 16160MiB |      0%      Default |\r\n",
      "|                               |                      |                  N/A |\r\n",
      "+-------------------------------+----------------------+----------------------+\r\n",
      "                                                                               \r\n",
      "+-----------------------------------------------------------------------------+\r\n",
      "| Processes:                                                                  |\r\n",
      "|  GPU   GI   CI        PID   Type   Process name                  GPU Memory |\r\n",
      "|        ID   ID                                                   Usage      |\r\n",
      "|=============================================================================|\r\n",
      "+-----------------------------------------------------------------------------+\r\n"
     ]
    }
   ],
   "source": [
    "!nvidia-smi"
   ]
  },
  {
   "cell_type": "markdown",
   "id": "19db9813",
   "metadata": {
    "slideshow": {
     "slide_type": "slide"
    }
   },
   "source": [
    "计算设备\n",
    "\n",
    "在PyTorch中，CPU和GPU可以用torch.device('cpu') 和torch.device('cuda')表示。 应该注意的是，cpu设备意味着所有物理CPU和内存， 这意味着PyTorch的计算将尝试使用所有CPU核心。 然而，gpu设备只代表一个卡和相应的显存。 如果有多个GPU，我们使用torch.device(f'cuda:{i}') 来表示第几块GPU"
   ]
  },
  {
   "cell_type": "code",
   "execution_count": 1,
   "id": "9f69ad46",
   "metadata": {
    "execution": {
     "iopub.execute_input": "2023-08-18T06:58:06.865430Z",
     "iopub.status.busy": "2023-08-18T06:58:06.864979Z",
     "iopub.status.idle": "2023-08-18T06:58:07.970615Z",
     "shell.execute_reply": "2023-08-18T06:58:07.969801Z"
    },
    "origin_pos": 10,
    "tab": [
     "pytorch"
    ]
   },
   "outputs": [
    {
     "data": {
      "text/plain": [
       "(device(type='cpu'), device(type='cuda'), device(type='cuda', index=1))"
      ]
     },
     "execution_count": 1,
     "metadata": {},
     "output_type": "execute_result"
    }
   ],
   "source": [
    "import torch\n",
    "from torch import nn\n",
    "\n",
    "torch.device('cpu'), torch.device('cuda'), torch.device('cuda:1')"
   ]
  },
  {
   "cell_type": "markdown",
   "id": "1e0f86ba",
   "metadata": {
    "slideshow": {
     "slide_type": "-"
    }
   },
   "source": [
    "查询可用gpu的数量"
   ]
  },
  {
   "cell_type": "code",
   "execution_count": 2,
   "id": "c29151b0",
   "metadata": {
    "execution": {
     "iopub.execute_input": "2023-08-18T06:58:07.974568Z",
     "iopub.status.busy": "2023-08-18T06:58:07.973917Z",
     "iopub.status.idle": "2023-08-18T06:58:07.979097Z",
     "shell.execute_reply": "2023-08-18T06:58:07.978337Z"
    },
    "origin_pos": 15,
    "tab": [
     "pytorch"
    ]
   },
   "outputs": [
    {
     "data": {
      "text/plain": [
       "1"
      ]
     },
     "execution_count": 2,
     "metadata": {},
     "output_type": "execute_result"
    }
   ],
   "source": [
    "torch.cuda.device_count()"
   ]
  },
  {
   "cell_type": "markdown",
   "id": "add6b576",
   "metadata": {
    "slideshow": {
     "slide_type": "slide"
    }
   },
   "source": [
    "这两个函数允许我们在不存在所需所有GPU的情况下运行代码"
   ]
  },
  {
   "cell_type": "code",
   "execution_count": 4,
   "id": "cda0ab76",
   "metadata": {
    "execution": {
     "iopub.execute_input": "2023-08-18T06:58:07.983261Z",
     "iopub.status.busy": "2023-08-18T06:58:07.982604Z",
     "iopub.status.idle": "2023-08-18T06:58:07.990309Z",
     "shell.execute_reply": "2023-08-18T06:58:07.989541Z"
    },
    "origin_pos": 20,
    "tab": [
     "pytorch"
    ]
   },
   "outputs": [
    {
     "data": {
      "text/plain": [
       "(device(type='cuda', index=0),\n",
       " device(type='cpu'),\n",
       " [device(type='cuda', index=0), device(type='cuda', index=1)])"
      ]
     },
     "execution_count": 4,
     "metadata": {},
     "output_type": "execute_result"
    }
   ],
   "source": [
    "def try_gpu(i=0):  \n",
    "    \"\"\"如果存在，则返回gpu(i)，否则返回cpu()\"\"\"\n",
    "    if torch.cuda.device_count() >= i + 1:\n",
    "        return torch.device(f'cuda:{i}')\n",
    "    return torch.device('cpu')\n",
    "\n",
    "def try_all_gpus():  \n",
    "    \"\"\"返回所有可用的GPU，如果没有GPU，则返回[cpu(),]\"\"\"\n",
    "    devices = [torch.device(f'cuda:{i}')\n",
    "             for i in range(torch.cuda.device_count())]\n",
    "    return devices if devices else [torch.device('cpu')]\n",
    "\n",
    "try_gpu(), try_gpu(10), try_all_gpus()"
   ]
  },
  {
   "cell_type": "markdown",
   "id": "013f4e4b",
   "metadata": {
    "slideshow": {
     "slide_type": "slide"
    }
   },
   "source": [
    "查询张量所在的设备"
   ]
  },
  {
   "cell_type": "code",
   "execution_count": 3,
   "id": "f6ab0f26",
   "metadata": {
    "execution": {
     "iopub.execute_input": "2023-08-18T06:58:07.994741Z",
     "iopub.status.busy": "2023-08-18T06:58:07.994126Z",
     "iopub.status.idle": "2023-08-18T06:58:07.999439Z",
     "shell.execute_reply": "2023-08-18T06:58:07.998673Z"
    },
    "origin_pos": 25,
    "tab": [
     "pytorch"
    ]
   },
   "outputs": [
    {
     "data": {
      "text/plain": [
       "device(type='cpu')"
      ]
     },
     "execution_count": 3,
     "metadata": {},
     "output_type": "execute_result"
    }
   ],
   "source": [
    "x = torch.tensor([1, 2, 3])\n",
    "x.device"
   ]
  },
  {
   "cell_type": "markdown",
   "id": "9404d10b",
   "metadata": {
    "slideshow": {
     "slide_type": "slide"
    }
   },
   "source": [
    "存储在GPU上"
   ]
  },
  {
   "cell_type": "code",
   "execution_count": 4,
   "id": "a67dbf2f",
   "metadata": {
    "execution": {
     "iopub.execute_input": "2023-08-18T06:58:08.004162Z",
     "iopub.status.busy": "2023-08-18T06:58:08.003541Z",
     "iopub.status.idle": "2023-08-18T06:58:09.277879Z",
     "shell.execute_reply": "2023-08-18T06:58:09.277008Z"
    },
    "origin_pos": 30,
    "tab": [
     "pytorch"
    ]
   },
   "outputs": [
    {
     "ename": "NameError",
     "evalue": "name 'try_gpu' is not defined",
     "output_type": "error",
     "traceback": [
      "\u001b[1;31m---------------------------------------------------------------------------\u001b[0m",
      "\u001b[1;31mNameError\u001b[0m                                 Traceback (most recent call last)",
      "Cell \u001b[1;32mIn[4], line 1\u001b[0m\n\u001b[1;32m----> 1\u001b[0m X \u001b[38;5;241m=\u001b[39m torch\u001b[38;5;241m.\u001b[39mones(\u001b[38;5;241m2\u001b[39m, \u001b[38;5;241m3\u001b[39m, device\u001b[38;5;241m=\u001b[39m\u001b[43mtry_gpu\u001b[49m())\n\u001b[0;32m      2\u001b[0m X\n",
      "\u001b[1;31mNameError\u001b[0m: name 'try_gpu' is not defined"
     ]
    }
   ],
   "source": [
    "X = torch.ones(2, 3, device=try_gpu())\n",
    "X"
   ]
  },
  {
   "cell_type": "markdown",
   "id": "5bf59dc4",
   "metadata": {
    "slideshow": {
     "slide_type": "-"
    }
   },
   "source": [
    "第二个GPU上创建一个随机张量"
   ]
  },
  {
   "cell_type": "code",
   "execution_count": 7,
   "id": "7c0d4a84",
   "metadata": {
    "execution": {
     "iopub.execute_input": "2023-08-18T06:58:09.282814Z",
     "iopub.status.busy": "2023-08-18T06:58:09.282230Z",
     "iopub.status.idle": "2023-08-18T06:58:10.279046Z",
     "shell.execute_reply": "2023-08-18T06:58:10.278227Z"
    },
    "origin_pos": 35,
    "tab": [
     "pytorch"
    ]
   },
   "outputs": [
    {
     "data": {
      "text/plain": [
       "tensor([[0.4860, 0.1285, 0.0440],\n",
       "        [0.9743, 0.4159, 0.9979]], device='cuda:1')"
      ]
     },
     "execution_count": 7,
     "metadata": {},
     "output_type": "execute_result"
    }
   ],
   "source": [
    "Y = torch.rand(2, 3, device=try_gpu(1))\n",
    "Y"
   ]
  },
  {
   "cell_type": "markdown",
   "id": "397b13bf",
   "metadata": {
    "slideshow": {
     "slide_type": "slide"
    }
   },
   "source": [
    "要计算`X + Y`，我们需要决定在哪里执行这个操作"
   ]
  },
  {
   "cell_type": "code",
   "execution_count": 8,
   "id": "9e700cd2",
   "metadata": {
    "execution": {
     "iopub.execute_input": "2023-08-18T06:58:10.284097Z",
     "iopub.status.busy": "2023-08-18T06:58:10.283529Z",
     "iopub.status.idle": "2023-08-18T06:58:10.290795Z",
     "shell.execute_reply": "2023-08-18T06:58:10.290007Z"
    },
    "origin_pos": 40,
    "tab": [
     "pytorch"
    ]
   },
   "outputs": [
    {
     "name": "stdout",
     "output_type": "stream",
     "text": [
      "tensor([[1., 1., 1.],\n",
      "        [1., 1., 1.]], device='cuda:0')\n",
      "tensor([[1., 1., 1.],\n",
      "        [1., 1., 1.]], device='cuda:1')\n"
     ]
    }
   ],
   "source": [
    "Z = X.cuda(1)\n",
    "print(X)\n",
    "print(Z)\n",
    "Z = Z.cpu()\n",
    "print(Z)"
   ]
  },
  {
   "cell_type": "markdown",
   "id": "a8407698",
   "metadata": {
    "slideshow": {
     "slide_type": "slide"
    }
   },
   "source": [
    "如果我们要计算X + Y，我们需要决定在哪里执行这个操作。 例如， 我们可以将X传输到第二个GPU并在那里执行操作。 不要简单地X加上Y，因为这会导致异常， 运行时引擎不知道该怎么做：它在同一设备上找不到数据会导致失败。 由于Y位于第二个GPU上，所以我们需要将X移到那里， 然后才能执行相加运算。\n",
    "\n",
    "现在数据在同一个GPU上（`Z`和`Y`都在），我们可以将它们相加"
   ]
  },
  {
   "cell_type": "code",
   "execution_count": 9,
   "id": "b2f04f35",
   "metadata": {
    "execution": {
     "iopub.execute_input": "2023-08-18T06:58:10.295377Z",
     "iopub.status.busy": "2023-08-18T06:58:10.294845Z",
     "iopub.status.idle": "2023-08-18T06:58:10.301122Z",
     "shell.execute_reply": "2023-08-18T06:58:10.300297Z"
    },
    "origin_pos": 43,
    "tab": [
     "pytorch"
    ]
   },
   "outputs": [
    {
     "data": {
      "text/plain": [
       "tensor([[1.4860, 1.1285, 1.0440],\n",
       "        [1.9743, 1.4159, 1.9979]], device='cuda:1')"
      ]
     },
     "execution_count": 9,
     "metadata": {},
     "output_type": "execute_result"
    }
   ],
   "source": [
    "Y + Z"
   ]
  },
  {
   "cell_type": "code",
   "execution_count": 10,
   "id": "d6b95aa1",
   "metadata": {
    "execution": {
     "iopub.execute_input": "2023-08-18T06:58:10.305143Z",
     "iopub.status.busy": "2023-08-18T06:58:10.304592Z",
     "iopub.status.idle": "2023-08-18T06:58:10.309707Z",
     "shell.execute_reply": "2023-08-18T06:58:10.308894Z"
    },
    "origin_pos": 48,
    "tab": [
     "pytorch"
    ]
   },
   "outputs": [
    {
     "data": {
      "text/plain": [
       "True"
      ]
     },
     "execution_count": 10,
     "metadata": {},
     "output_type": "execute_result"
    }
   ],
   "source": [
    "Z.cuda(1) is Z"
   ]
  },
  {
   "cell_type": "code",
   "execution_count": 5,
   "id": "f0e8c0db",
   "metadata": {},
   "outputs": [
    {
     "name": "stdout",
     "output_type": "stream",
     "text": [
      "cuda\n"
     ]
    }
   ],
   "source": [
    "import torch\n",
    "import torch.nn as nn\n",
    "device = torch.device('cuda' if torch.cuda.is_available() else 'cpu')\n",
    "print(device)"
   ]
  },
  {
   "cell_type": "markdown",
   "id": "86e67482",
   "metadata": {
    "slideshow": {
     "slide_type": "slide"
    }
   },
   "source": [
    "神经网络与GPU，类似地，神经网络模型可以指定设备"
   ]
  },
  {
   "cell_type": "code",
   "execution_count": 7,
   "id": "955f7f67",
   "metadata": {
    "execution": {
     "iopub.execute_input": "2023-08-18T06:58:10.340989Z",
     "iopub.status.busy": "2023-08-18T06:58:10.340312Z",
     "iopub.status.idle": "2023-08-18T06:58:10.930969Z",
     "shell.execute_reply": "2023-08-18T06:58:10.930143Z"
    },
    "origin_pos": 56,
    "tab": [
     "pytorch"
    ]
   },
   "outputs": [
    {
     "data": {
      "text/plain": [
       "tensor([[-0.6263],\n",
       "        [-0.7061]], device='cuda:0', grad_fn=<AddmmBackward0>)"
      ]
     },
     "execution_count": 7,
     "metadata": {},
     "output_type": "execute_result"
    }
   ],
   "source": [
    "net = nn.Sequential(nn.Linear(3, 1))\n",
    "net = net.to(device=device)\n",
    "X = torch.rand(2, 3).to(device)\n",
    "net(X)"
   ]
  },
  {
   "cell_type": "markdown",
   "id": "b1ae89a4",
   "metadata": {
    "slideshow": {
     "slide_type": "-"
    }
   },
   "source": [
    "确认模型参数存储在同一个GPU上"
   ]
  },
  {
   "cell_type": "code",
   "execution_count": 13,
   "id": "bd727993",
   "metadata": {
    "execution": {
     "iopub.execute_input": "2023-08-18T06:58:10.935087Z",
     "iopub.status.busy": "2023-08-18T06:58:10.934497Z",
     "iopub.status.idle": "2023-08-18T06:58:10.939740Z",
     "shell.execute_reply": "2023-08-18T06:58:10.938974Z"
    },
    "origin_pos": 59,
    "tab": [
     "pytorch"
    ]
   },
   "outputs": [
    {
     "data": {
      "text/plain": [
       "device(type='cuda', index=0)"
      ]
     },
     "execution_count": 13,
     "metadata": {},
     "output_type": "execute_result"
    }
   ],
   "source": [
    "net[0].weight.data.device"
   ]
  },
  {
   "cell_type": "markdown",
   "id": "982e59d0",
   "metadata": {},
   "source": [
    "### 注意事项\n",
    "1.  一般使用GPU训练，data在哪一步to cpu比较好？\n",
    "预处理和最后结果\n",
    "2.  .cuda()/.cpu()与to(device)区别\n",
    "前者数据后者moduel"
   ]
  }
 ],
 "metadata": {
  "celltoolbar": "Slideshow",
  "kernelspec": {
   "display_name": "pytorch",
   "language": "python",
   "name": "python3"
  },
  "language_info": {
   "codemirror_mode": {
    "name": "ipython",
    "version": 3
   },
   "file_extension": ".py",
   "mimetype": "text/x-python",
   "name": "python",
   "nbconvert_exporter": "python",
   "pygments_lexer": "ipython3",
   "version": "3.11.7"
  },
  "required_libs": [],
  "rise": {
   "autolaunch": true,
   "enable_chalkboard": true,
   "overlay": "<div class='my-top-right'><img height=80px src='http://d2l.ai/_static/logo-with-text.png'/></div><div class='my-top-left'></div>",
   "scroll": true
  }
 },
 "nbformat": 4,
 "nbformat_minor": 5
}
