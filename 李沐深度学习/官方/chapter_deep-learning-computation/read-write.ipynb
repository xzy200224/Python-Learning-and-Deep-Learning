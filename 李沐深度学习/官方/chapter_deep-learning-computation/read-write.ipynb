{
 "cells": [
  {
   "cell_type": "markdown",
   "id": "3c764167",
   "metadata": {
    "slideshow": {
     "slide_type": "-"
    }
   },
   "source": [
    "# 读写文件\n",
    "\n",
    "加载和保存张量"
   ]
  },
  {
   "cell_type": "code",
   "execution_count": 2,
   "id": "1ab53461",
   "metadata": {
    "execution": {
     "iopub.execute_input": "2023-08-18T06:56:43.733002Z",
     "iopub.status.busy": "2023-08-18T06:56:43.732347Z",
     "iopub.status.idle": "2023-08-18T06:56:43.741208Z",
     "shell.execute_reply": "2023-08-18T06:56:43.740416Z"
    },
    "origin_pos": 7,
    "tab": [
     "pytorch"
    ]
   },
   "outputs": [
    {
     "data": {
      "text/plain": [
       "tensor([0, 1, 2, 3])"
      ]
     },
     "execution_count": 2,
     "metadata": {},
     "output_type": "execute_result"
    }
   ],
   "source": [
    "import torch\n",
    "from torch import nn\n",
    "from torch.nn import functional as F\n",
    "\n",
    "x = torch.arange(4)\n",
    "torch.save(x, 'x-file')\n",
    "\n",
    "x2 = torch.load('x-file')\n",
    "x2"
   ]
  },
  {
   "cell_type": "markdown",
   "id": "6c8adb8b",
   "metadata": {
    "slideshow": {
     "slide_type": "slide"
    }
   },
   "source": [
    "存储一个张量列表，然后把它们读回内存"
   ]
  },
  {
   "cell_type": "code",
   "execution_count": 3,
   "id": "81027fe1",
   "metadata": {
    "execution": {
     "iopub.execute_input": "2023-08-18T06:56:43.744676Z",
     "iopub.status.busy": "2023-08-18T06:56:43.744140Z",
     "iopub.status.idle": "2023-08-18T06:56:43.751376Z",
     "shell.execute_reply": "2023-08-18T06:56:43.750630Z"
    },
    "origin_pos": 12,
    "tab": [
     "pytorch"
    ]
   },
   "outputs": [
    {
     "data": {
      "text/plain": [
       "(tensor([0, 1, 2, 3]), tensor([0., 0., 0., 0.]))"
      ]
     },
     "execution_count": 3,
     "metadata": {},
     "output_type": "execute_result"
    }
   ],
   "source": [
    "y = torch.zeros(4)\n",
    "torch.save([x, y],'x-files')\n",
    "x2, y2 = torch.load('x-files')\n",
    "(x2, y2)"
   ]
  },
  {
   "cell_type": "markdown",
   "id": "47678e7f",
   "metadata": {
    "slideshow": {
     "slide_type": "-"
    }
   },
   "source": [
    "写入或读取从字符串映射到张量的字典"
   ]
  },
  {
   "cell_type": "code",
   "execution_count": 4,
   "id": "fde1cb33",
   "metadata": {
    "execution": {
     "iopub.execute_input": "2023-08-18T06:56:43.754777Z",
     "iopub.status.busy": "2023-08-18T06:56:43.754313Z",
     "iopub.status.idle": "2023-08-18T06:56:43.761150Z",
     "shell.execute_reply": "2023-08-18T06:56:43.760369Z"
    },
    "origin_pos": 17,
    "tab": [
     "pytorch"
    ]
   },
   "outputs": [
    {
     "data": {
      "text/plain": [
       "{'x': tensor([0, 1, 2, 3]), 'y': tensor([0., 0., 0., 0.])}"
      ]
     },
     "execution_count": 4,
     "metadata": {},
     "output_type": "execute_result"
    }
   ],
   "source": [
    "mydict = {'x': x, 'y': y}\n",
    "torch.save(mydict, 'mydict')\n",
    "mydict2 = torch.load('mydict')\n",
    "mydict2"
   ]
  },
  {
   "cell_type": "markdown",
   "id": "9cc9655d",
   "metadata": {
    "slideshow": {
     "slide_type": "slide"
    }
   },
   "source": [
    "加载和保存模型参数"
   ]
  },
  {
   "cell_type": "code",
   "execution_count": 5,
   "id": "2672b5c2",
   "metadata": {
    "execution": {
     "iopub.execute_input": "2023-08-18T06:56:43.764609Z",
     "iopub.status.busy": "2023-08-18T06:56:43.764090Z",
     "iopub.status.idle": "2023-08-18T06:56:43.773070Z",
     "shell.execute_reply": "2023-08-18T06:56:43.772277Z"
    },
    "origin_pos": 22,
    "tab": [
     "pytorch"
    ]
   },
   "outputs": [],
   "source": [
    "class MLP(nn.Module):\n",
    "    def __init__(self):\n",
    "        super().__init__()\n",
    "        self.hidden = nn.Linear(20, 256)\n",
    "        self.output = nn.Linear(256, 10)\n",
    "\n",
    "    def forward(self, x):\n",
    "        return self.output(F.relu(self.hidden(x)))\n",
    "\n",
    "net = MLP()\n",
    "X = torch.randn(size=(2, 20))\n",
    "Y = net(X)"
   ]
  },
  {
   "cell_type": "markdown",
   "id": "72d77012",
   "metadata": {
    "slideshow": {
     "slide_type": "slide"
    }
   },
   "source": [
    "将模型的参数存储在一个叫做“mlp.params”的文件中"
   ]
  },
  {
   "cell_type": "code",
   "execution_count": 6,
   "id": "a53c1315",
   "metadata": {
    "execution": {
     "iopub.execute_input": "2023-08-18T06:56:43.776452Z",
     "iopub.status.busy": "2023-08-18T06:56:43.775942Z",
     "iopub.status.idle": "2023-08-18T06:56:43.780387Z",
     "shell.execute_reply": "2023-08-18T06:56:43.779636Z"
    },
    "origin_pos": 27,
    "tab": [
     "pytorch"
    ]
   },
   "outputs": [],
   "source": [
    "torch.save(net.state_dict(), 'mlp.params')"
   ]
  },
  {
   "cell_type": "markdown",
   "id": "647cbcef",
   "metadata": {
    "slideshow": {
     "slide_type": "slide"
    }
   },
   "source": [
    "实例化了原始多层感知机模型的一个备份。\n",
    "直接读取文件中存储的参数"
   ]
  },
  {
   "cell_type": "code",
   "execution_count": 7,
   "id": "da5e1b3f",
   "metadata": {
    "execution": {
     "iopub.execute_input": "2023-08-18T06:56:43.783850Z",
     "iopub.status.busy": "2023-08-18T06:56:43.783240Z",
     "iopub.status.idle": "2023-08-18T06:56:43.789905Z",
     "shell.execute_reply": "2023-08-18T06:56:43.789164Z"
    },
    "origin_pos": 32,
    "tab": [
     "pytorch"
    ]
   },
   "outputs": [
    {
     "data": {
      "text/plain": [
       "MLP(\n",
       "  (hidden): Linear(in_features=20, out_features=256, bias=True)\n",
       "  (output): Linear(in_features=256, out_features=10, bias=True)\n",
       ")"
      ]
     },
     "execution_count": 7,
     "metadata": {},
     "output_type": "execute_result"
    }
   ],
   "source": [
    "clone = MLP()\n",
    "clone.load_state_dict(torch.load('mlp.params'))\n",
    "clone.eval()"
   ]
  },
  {
   "cell_type": "code",
   "execution_count": 8,
   "id": "a25ba1f1",
   "metadata": {
    "execution": {
     "iopub.execute_input": "2023-08-18T06:56:43.793400Z",
     "iopub.status.busy": "2023-08-18T06:56:43.792788Z",
     "iopub.status.idle": "2023-08-18T06:56:43.798329Z",
     "shell.execute_reply": "2023-08-18T06:56:43.797576Z"
    },
    "origin_pos": 37,
    "tab": [
     "pytorch"
    ]
   },
   "outputs": [
    {
     "data": {
      "text/plain": [
       "tensor([[True, True, True, True, True, True, True, True, True, True],\n",
       "        [True, True, True, True, True, True, True, True, True, True]])"
      ]
     },
     "execution_count": 8,
     "metadata": {},
     "output_type": "execute_result"
    }
   ],
   "source": [
    "Y_clone = clone(X)\n",
    "Y_clone == Y"
   ]
  }
 ],
 "metadata": {
  "celltoolbar": "Slideshow",
  "language_info": {
   "name": "python"
  },
  "required_libs": [],
  "rise": {
   "autolaunch": true,
   "enable_chalkboard": true,
   "overlay": "<div class='my-top-right'><img height=80px src='http://d2l.ai/_static/logo-with-text.png'/></div><div class='my-top-left'></div>",
   "scroll": true
  }
 },
 "nbformat": 4,
 "nbformat_minor": 5
}