{
 "cells": [
  {
   "cell_type": "markdown",
   "id": "bbe8a716",
   "metadata": {
    "slideshow": {
     "slide_type": "-"
    }
   },
   "source": [
    "# 数据预处理\n",
    "\n",
    "创建一个人工数据集，并存储在CSV（逗号分隔值）文件"
   ]
  },
  {
   "cell_type": "code",
   "execution_count": 1,
   "id": "ee72fd16",
   "metadata": {
    "execution": {
     "iopub.execute_input": "2023-08-18T07:03:38.903209Z",
     "iopub.status.busy": "2023-08-18T07:03:38.902351Z",
     "iopub.status.idle": "2023-08-18T07:03:38.918117Z",
     "shell.execute_reply": "2023-08-18T07:03:38.916775Z"
    },
    "origin_pos": 1,
    "tab": [
     "pytorch"
    ]
   },
   "outputs": [],
   "source": [
    "import os\n",
    "# 参数exist_ok=True表示如果目标目录已经存在，函数将不会抛出异常，而是无操作地结束。\n",
    "os.makedirs(os.path.join('..', 'data'), exist_ok=True)\n",
    "data_file = os.path.join('..', 'data', 'house_tiny.csv')\n",
    "with open(data_file, 'w') as f:\n",
    "    f.write('NumRooms,Alley,Price\\n')\n",
    "    f.write('NA,Pave,127500\\n')\n",
    "    f.write('2,NA,106000\\n')\n",
    "    f.write('4,NA,178100\\n')\n",
    "    f.write('NA,NA,140000\\n')"
   ]
  },
  {
   "cell_type": "markdown",
   "id": "50063800",
   "metadata": {
    "slideshow": {
     "slide_type": "slide"
    }
   },
   "source": [
    "从创建的CSV文件中加载原始数据集"
   ]
  },
  {
   "cell_type": "code",
   "execution_count": 3,
   "id": "5fb16e52",
   "metadata": {
    "execution": {
     "iopub.execute_input": "2023-08-18T07:03:38.923957Z",
     "iopub.status.busy": "2023-08-18T07:03:38.923101Z",
     "iopub.status.idle": "2023-08-18T07:03:39.372116Z",
     "shell.execute_reply": "2023-08-18T07:03:39.371151Z"
    },
    "origin_pos": 3,
    "tab": [
     "pytorch"
    ]
   },
   "outputs": [
    {
     "name": "stdout",
     "output_type": "stream",
     "text": [
      "   NumRooms Alley   Price\n",
      "0       NaN  Pave  127500\n",
      "1       2.0   NaN  106000\n",
      "2       4.0   NaN  178100\n",
      "3       NaN   NaN  140000\n"
     ]
    }
   ],
   "source": [
    "import pandas as pd\n",
    "\n",
    "data = pd.read_csv(data_file)\n",
    "print(data)"
   ]
  },
  {
   "cell_type": "markdown",
   "id": "2a0d9ba1",
   "metadata": {
    "slideshow": {
     "slide_type": "slide"
    }
   },
   "source": [
    "“NaN”项代表缺失值。 为了处理缺失的数据，典型的方法包括插值法和删除法， 其中插值法用一个替代值弥补缺失值，而删除法则直接忽略缺失值。\n",
    "这里，我们将考虑插值法\n",
    "\n",
    "pandas中.iloc是基于整数位置的选择，而.loc是基于标签的选择。使用如下:\n",
    "```python\n",
    "# 选择第一行到第三行（不包括第四行）\n",
    "df.iloc[0:3]\n",
    "# 选择第一行和第三行，第一列和第二列\n",
    "df.iloc[[0, 2], [0, 1]]\n",
    "# 选择标签为'row1'到'row3'的行（包括'row3'）\n",
    "df.loc['row1':'row3']\n",
    "# 选择标签为'row1'和'row3'的行，'col1'和'col2'的列\n",
    "df.loc[['row1', 'row3'], ['col1', 'col2']]\n",
    "```"
   ]
  },
  {
   "cell_type": "code",
   "execution_count": 7,
   "id": "d460a301",
   "metadata": {
    "execution": {
     "iopub.execute_input": "2023-08-18T07:03:39.375828Z",
     "iopub.status.busy": "2023-08-18T07:03:39.375535Z",
     "iopub.status.idle": "2023-08-18T07:03:39.389220Z",
     "shell.execute_reply": "2023-08-18T07:03:39.387998Z"
    },
    "origin_pos": 5,
    "tab": [
     "pytorch"
    ]
   },
   "outputs": [
    {
     "name": "stdout",
     "output_type": "stream",
     "text": [
      "   NumRooms Alley\n",
      "0       3.0  Pave\n",
      "1       2.0   NaN\n",
      "2       4.0   NaN\n",
      "3       3.0   NaN\n"
     ]
    }
   ],
   "source": [
    "inputs, outputs = data.iloc[:, 0:2], data.iloc[:, 2]\n",
    "inputs['NumRooms'] = inputs['NumRooms'].fillna(inputs['NumRooms'].mean())\n",
    "print(inputs)"
   ]
  },
  {
   "cell_type": "markdown",
   "id": "13fbca82",
   "metadata": {
    "slideshow": {
     "slide_type": "slide"
    }
   },
   "source": [
    "对于`inputs`中的类别值或离散值，我们将“NaN”视为一个类别\n",
    "\n",
    ".get_dummies将分类变量转换为称为\"哑变量\"或\"虚拟变量\"的一系列二进制列，每个唯一的类别值都会被分配一个新的列。如果原始数据中的某个特征有三个类别，get_dummies将这个特征转换成三列，每列对应一个类别，类别存在时为1，不存在时为0。\n",
    "\n",
    "dummy_na=True：这个参数指定了是否为NaN值添加一个哑变量列。如果设置为True，那么每个特征中的NaN值也会被视作一个有效的类别，并为其创建一个新的列，其中NaN存在时为1，否则为0。\n",
    "\n",
    "当使用哑变量时，要注意\"虚拟变量陷阱\"（Dummy Variable Trap），即高度相关（多重共线性）的特征列可能会导致一些机器学习模型的性能下降。为避免这个问题，一种做法是使用drop_first=True参数，这将从每个特征的哑变量中移除第一列，减少特征之间的完全多重共线性。"
   ]
  },
  {
   "cell_type": "code",
   "execution_count": 8,
   "id": "09ab8738",
   "metadata": {
    "execution": {
     "iopub.execute_input": "2023-08-18T07:03:39.394176Z",
     "iopub.status.busy": "2023-08-18T07:03:39.393444Z",
     "iopub.status.idle": "2023-08-18T07:03:39.409892Z",
     "shell.execute_reply": "2023-08-18T07:03:39.408559Z"
    },
    "origin_pos": 7,
    "tab": [
     "pytorch"
    ]
   },
   "outputs": [
    {
     "name": "stdout",
     "output_type": "stream",
     "text": [
      "   NumRooms  Alley_Pave  Alley_nan\n",
      "0       3.0        True      False\n",
      "1       2.0       False       True\n",
      "2       4.0       False       True\n",
      "3       3.0       False       True\n"
     ]
    }
   ],
   "source": [
    "inputs = pd.get_dummies(inputs, dummy_na=True)\n",
    "print(inputs)"
   ]
  },
  {
   "cell_type": "markdown",
   "id": "56c7800a",
   "metadata": {
    "slideshow": {
     "slide_type": "slide"
    }
   },
   "source": [
    "现在`inputs`和`outputs`中的所有条目都是数值类型，它们可以转换为张量格式"
   ]
  },
  {
   "cell_type": "code",
   "execution_count": 9,
   "id": "4f551c6d",
   "metadata": {
    "execution": {
     "iopub.execute_input": "2023-08-18T07:03:39.414531Z",
     "iopub.status.busy": "2023-08-18T07:03:39.413831Z",
     "iopub.status.idle": "2023-08-18T07:03:40.467689Z",
     "shell.execute_reply": "2023-08-18T07:03:40.466637Z"
    },
    "origin_pos": 10,
    "tab": [
     "pytorch"
    ]
   },
   "outputs": [
    {
     "data": {
      "text/plain": [
       "(tensor([[3., 1., 0.],\n",
       "         [2., 0., 1.],\n",
       "         [4., 0., 1.],\n",
       "         [3., 0., 1.]], dtype=torch.float64),\n",
       " tensor([127500., 106000., 178100., 140000.], dtype=torch.float64))"
      ]
     },
     "execution_count": 9,
     "metadata": {},
     "output_type": "execute_result"
    }
   ],
   "source": [
    "import torch\n",
    "# to_numpy() 方法将 DataFrame 转换为 NumPy 数组，然后再使用 torch.tensor() 函数将 NumPy 数组转换为张量。\n",
    "X = torch.tensor(inputs.to_numpy(dtype=float))\n",
    "y = torch.tensor(outputs.to_numpy(dtype=float))\n",
    "X, y"
   ]
  },
  {
   "cell_type": "markdown",
   "id": "f0f92df4",
   "metadata": {},
   "source": [
    "### 练习\n",
    "1.删除缺失值最多的列。\n",
    "\n",
    "2.将预处理后的数据集转换为张量格式。"
   ]
  },
  {
   "cell_type": "markdown",
   "id": "d88bab4d",
   "metadata": {},
   "source": [
    "df.dropna(axis=1, inplace=True) 是用于删除包含缺失值的整列数据。它会删除所有包含缺失值的列。axis=1 表示按列操作,inplace=True 参数是用于指示在原始数据上进行操作。\n",
    "\n",
    "df.drop(column_with_most_missing_values, axis=1, inplace=True) 是根据变量 column_with_most_missing_values 的值来指定要删除的列名。它只会删除指定的那一列。同样，axis=1 表示按列操作。"
   ]
  },
  {
   "cell_type": "code",
   "execution_count": 19,
   "id": "308d193c",
   "metadata": {},
   "outputs": [
    {
     "name": "stdout",
     "output_type": "stream",
     "text": [
      "删除之前的df：\n",
      "   特征1   特征2   特征3  特征4\n",
      "0  1.0   7.0  13.0   18\n",
      "1  2.0   8.0  14.0   19\n",
      "2  NaN   9.0  15.0   20\n",
      "3  4.0   NaN   NaN   21\n",
      "4  5.0  11.0  17.0   22\n",
      "5  6.0  12.0   NaN   23\n",
      "每列的缺失值数量\n",
      "特征1    1\n",
      "特征2    1\n",
      "特征3    2\n",
      "特征4    0\n",
      "dtype: int64\n",
      "\n",
      "缺失值最多的列:特征3\n",
      "\n",
      "预处理后的数据集张量格式：\n",
      "tensor([[ 1.,  7., 18.],\n",
      "        [ 2.,  8., 19.],\n",
      "        [nan,  9., 20.],\n",
      "        [ 4., nan, 21.],\n",
      "        [ 5., 11., 22.],\n",
      "        [ 6., 12., 23.]], dtype=torch.float64)\n"
     ]
    }
   ],
   "source": [
    "import pandas as pd\n",
    "import numpy as np\n",
    "import torch\n",
    "\n",
    "# 创建一个包含更多行和列的示例数据集\n",
    "data = {\n",
    "    '特征1': [1, 2, np.nan, 4, 5, 6],\n",
    "    '特征2': [7, 8, 9, np.nan, 11, 12],\n",
    "    '特征3': [13, 14, 15, np.nan, 17, np.nan],\n",
    "    '特征4': [18, 19, 20, 21, 22, 23]\n",
    "}\n",
    "df = pd.DataFrame(data)\n",
    "print(\"删除之前的df：\")\n",
    "print(df)\n",
    "\n",
    "# 计算每列的缺失值数量\n",
    "missing_values = df.isnull().sum()\n",
    "print(f\"每列的缺失值数量\\n{missing_values}\\n\")\n",
    "\n",
    "# 找到缺失值最多的列\n",
    "column_with_most_missing_values = missing_values.idxmax()\n",
    "print(f\"缺失值最多的列:{column_with_most_missing_values}\\n\")\n",
    "\n",
    "# 删除缺失值最多的列\n",
    "df.drop(column_with_most_missing_values, axis=1, inplace=True)\n",
    "\n",
    "# 将预处理后的数据集转换为张量格式\n",
    "tensor = torch.tensor(df.to_numpy(dtype=float))\n",
    "\n",
    "print(\"预处理后的数据集张量格式：\")\n",
    "print(tensor)\n"
   ]
  }
 ],
 "metadata": {
  "celltoolbar": "Slideshow",
  "kernelspec": {
   "display_name": "pytorch",
   "language": "python",
   "name": "python3"
  },
  "language_info": {
   "codemirror_mode": {
    "name": "ipython",
    "version": 3
   },
   "file_extension": ".py",
   "mimetype": "text/x-python",
   "name": "python",
   "nbconvert_exporter": "python",
   "pygments_lexer": "ipython3",
   "version": "3.11.7"
  },
  "required_libs": [],
  "rise": {
   "autolaunch": true,
   "enable_chalkboard": true,
   "overlay": "<div class='my-top-right'><img height=80px src='http://d2l.ai/_static/logo-with-text.png'/></div><div class='my-top-left'></div>",
   "scroll": true
  }
 },
 "nbformat": 4,
 "nbformat_minor": 5
}
