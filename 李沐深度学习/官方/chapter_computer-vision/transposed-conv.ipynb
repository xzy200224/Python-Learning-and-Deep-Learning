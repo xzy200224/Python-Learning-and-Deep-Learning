{
 "cells": [
  {
   "cell_type": "markdown",
   "id": "db0f208a",
   "metadata": {
    "slideshow": {
     "slide_type": "-"
    }
   },
   "source": [
    "# 转置卷积\n",
    "\n"
   ]
  },
  {
   "cell_type": "code",
   "execution_count": 1,
   "id": "1f39b5ef",
   "metadata": {
    "execution": {
     "iopub.execute_input": "2023-08-18T07:05:22.451701Z",
     "iopub.status.busy": "2023-08-18T07:05:22.451411Z",
     "iopub.status.idle": "2023-08-18T07:05:24.490785Z",
     "shell.execute_reply": "2023-08-18T07:05:24.489970Z"
    },
    "origin_pos": 2,
    "tab": [
     "pytorch"
    ]
   },
   "outputs": [],
   "source": [
    "import torch\n",
    "from torch import nn\n",
    "from d2l import torch as d2l"
   ]
  },
  {
   "cell_type": "markdown",
   "id": "1f3a83f3",
   "metadata": {
    "slideshow": {
     "slide_type": "-"
    }
   },
   "source": [
    "实现基本的转置卷积运算"
   ]
  },
  {
   "cell_type": "code",
   "execution_count": 2,
   "id": "e6931d90",
   "metadata": {
    "execution": {
     "iopub.execute_input": "2023-08-18T07:05:24.494981Z",
     "iopub.status.busy": "2023-08-18T07:05:24.494307Z",
     "iopub.status.idle": "2023-08-18T07:05:24.499745Z",
     "shell.execute_reply": "2023-08-18T07:05:24.498885Z"
    },
    "origin_pos": 5,
    "tab": [
     "pytorch"
    ]
   },
   "outputs": [],
   "source": [
    "def trans_conv(X, K):\n",
    "    h, w = K.shape\n",
    "    Y = torch.zeros((X.shape[0] + h - 1, X.shape[1] + w - 1))\n",
    "    for i in range(X.shape[0]):\n",
    "        for j in range(X.shape[1]):\n",
    "            Y[i: i + h, j: j + w] += X[i, j] * K\n",
    "    return Y"
   ]
  },
  {
   "cell_type": "markdown",
   "id": "f3baa22e",
   "metadata": {
    "slideshow": {
     "slide_type": "slide"
    }
   },
   "source": [
    "验证上述实现输出"
   ]
  },
  {
   "cell_type": "code",
   "execution_count": 3,
   "id": "a7c6e2fd",
   "metadata": {
    "execution": {
     "iopub.execute_input": "2023-08-18T07:05:24.503202Z",
     "iopub.status.busy": "2023-08-18T07:05:24.502646Z",
     "iopub.status.idle": "2023-08-18T07:05:24.531448Z",
     "shell.execute_reply": "2023-08-18T07:05:24.530730Z"
    },
    "origin_pos": 7,
    "tab": [
     "pytorch"
    ]
   },
   "outputs": [
    {
     "data": {
      "text/plain": [
       "tensor([[ 0.,  0.,  1.],\n",
       "        [ 0.,  4.,  6.],\n",
       "        [ 4., 12.,  9.]])"
      ]
     },
     "execution_count": 3,
     "metadata": {},
     "output_type": "execute_result"
    }
   ],
   "source": [
    "X = torch.tensor([[0.0, 1.0], [2.0, 3.0]])\n",
    "K = torch.tensor([[0.0, 1.0], [2.0, 3.0]])\n",
    "trans_conv(X, K)"
   ]
  },
  {
   "cell_type": "markdown",
   "id": "9f9dd301",
   "metadata": {
    "slideshow": {
     "slide_type": "slide"
    }
   },
   "source": [
    "使用高级API获得相同的结果"
   ]
  },
  {
   "cell_type": "code",
   "execution_count": 4,
   "id": "b9de6d80",
   "metadata": {
    "execution": {
     "iopub.execute_input": "2023-08-18T07:05:24.535386Z",
     "iopub.status.busy": "2023-08-18T07:05:24.534826Z",
     "iopub.status.idle": "2023-08-18T07:05:24.544484Z",
     "shell.execute_reply": "2023-08-18T07:05:24.543747Z"
    },
    "origin_pos": 10,
    "tab": [
     "pytorch"
    ]
   },
   "outputs": [
    {
     "data": {
      "text/plain": [
       "tensor([[[[ 0.,  0.,  1.],\n",
       "          [ 0.,  4.,  6.],\n",
       "          [ 4., 12.,  9.]]]], grad_fn=<ConvolutionBackward0>)"
      ]
     },
     "execution_count": 4,
     "metadata": {},
     "output_type": "execute_result"
    }
   ],
   "source": [
    "X, K = X.reshape(1, 1, 2, 2), K.reshape(1, 1, 2, 2)\n",
    "tconv = nn.ConvTranspose2d(1, 1, kernel_size=2, bias=False)\n",
    "tconv.weight.data = K\n",
    "tconv(X)"
   ]
  },
  {
   "cell_type": "markdown",
   "id": "f8811b58",
   "metadata": {
    "slideshow": {
     "slide_type": "slide"
    }
   },
   "source": [
    "填充、步幅和多通道"
   ]
  },
  {
   "cell_type": "code",
   "execution_count": 5,
   "id": "cd114de1",
   "metadata": {
    "execution": {
     "iopub.execute_input": "2023-08-18T07:05:24.548040Z",
     "iopub.status.busy": "2023-08-18T07:05:24.547398Z",
     "iopub.status.idle": "2023-08-18T07:05:24.553659Z",
     "shell.execute_reply": "2023-08-18T07:05:24.552864Z"
    },
    "origin_pos": 14,
    "tab": [
     "pytorch"
    ]
   },
   "outputs": [
    {
     "data": {
      "text/plain": [
       "tensor([[[[4.]]]], grad_fn=<ConvolutionBackward0>)"
      ]
     },
     "execution_count": 5,
     "metadata": {},
     "output_type": "execute_result"
    }
   ],
   "source": [
    "tconv = nn.ConvTranspose2d(1, 1, kernel_size=2, padding=1, bias=False)\n",
    "tconv.weight.data = K\n",
    "tconv(X)"
   ]
  },
  {
   "cell_type": "code",
   "execution_count": 6,
   "id": "48064406",
   "metadata": {
    "execution": {
     "iopub.execute_input": "2023-08-18T07:05:24.557362Z",
     "iopub.status.busy": "2023-08-18T07:05:24.556727Z",
     "iopub.status.idle": "2023-08-18T07:05:24.563081Z",
     "shell.execute_reply": "2023-08-18T07:05:24.562365Z"
    },
    "origin_pos": 18,
    "tab": [
     "pytorch"
    ]
   },
   "outputs": [
    {
     "data": {
      "text/plain": [
       "tensor([[[[0., 0., 0., 1.],\n",
       "          [0., 0., 2., 3.],\n",
       "          [0., 2., 0., 3.],\n",
       "          [4., 6., 6., 9.]]]], grad_fn=<ConvolutionBackward0>)"
      ]
     },
     "execution_count": 6,
     "metadata": {},
     "output_type": "execute_result"
    }
   ],
   "source": [
    "tconv = nn.ConvTranspose2d(1, 1, kernel_size=2, stride=2, bias=False)\n",
    "tconv.weight.data = K\n",
    "tconv(X)"
   ]
  },
  {
   "cell_type": "code",
   "execution_count": 7,
   "id": "5e7033d7",
   "metadata": {
    "execution": {
     "iopub.execute_input": "2023-08-18T07:05:24.566613Z",
     "iopub.status.busy": "2023-08-18T07:05:24.565990Z",
     "iopub.status.idle": "2023-08-18T07:05:24.577437Z",
     "shell.execute_reply": "2023-08-18T07:05:24.576434Z"
    },
    "origin_pos": 22,
    "tab": [
     "pytorch"
    ]
   },
   "outputs": [
    {
     "data": {
      "text/plain": [
       "True"
      ]
     },
     "execution_count": 7,
     "metadata": {},
     "output_type": "execute_result"
    }
   ],
   "source": [
    "X = torch.rand(size=(1, 10, 16, 16))\n",
    "conv = nn.Conv2d(10, 20, kernel_size=5, padding=2, stride=3)\n",
    "tconv = nn.ConvTranspose2d(20, 10, kernel_size=5, padding=2, stride=3)\n",
    "tconv(conv(X)).shape == X.shape"
   ]
  },
  {
   "cell_type": "markdown",
   "id": "12aa0878",
   "metadata": {
    "slideshow": {
     "slide_type": "slide"
    }
   },
   "source": [
    "与矩阵变换的联系"
   ]
  },
  {
   "cell_type": "code",
   "execution_count": 8,
   "id": "260d5c6d",
   "metadata": {
    "execution": {
     "iopub.execute_input": "2023-08-18T07:05:24.581485Z",
     "iopub.status.busy": "2023-08-18T07:05:24.580866Z",
     "iopub.status.idle": "2023-08-18T07:05:24.589179Z",
     "shell.execute_reply": "2023-08-18T07:05:24.588233Z"
    },
    "origin_pos": 25,
    "tab": [
     "pytorch"
    ]
   },
   "outputs": [
    {
     "data": {
      "text/plain": [
       "tensor([[27., 37.],\n",
       "        [57., 67.]])"
      ]
     },
     "execution_count": 8,
     "metadata": {},
     "output_type": "execute_result"
    }
   ],
   "source": [
    "X = torch.arange(9.0).reshape(3, 3)\n",
    "K = torch.tensor([[1.0, 2.0], [3.0, 4.0]])\n",
    "Y = d2l.corr2d(X, K)\n",
    "Y"
   ]
  },
  {
   "cell_type": "code",
   "execution_count": 9,
   "id": "d9f6ce2b",
   "metadata": {
    "execution": {
     "iopub.execute_input": "2023-08-18T07:05:24.592769Z",
     "iopub.status.busy": "2023-08-18T07:05:24.592164Z",
     "iopub.status.idle": "2023-08-18T07:05:24.602392Z",
     "shell.execute_reply": "2023-08-18T07:05:24.601439Z"
    },
    "origin_pos": 28,
    "tab": [
     "pytorch"
    ]
   },
   "outputs": [
    {
     "data": {
      "text/plain": [
       "tensor([[1., 2., 0., 3., 4., 0., 0., 0., 0.],\n",
       "        [0., 1., 2., 0., 3., 4., 0., 0., 0.],\n",
       "        [0., 0., 0., 1., 2., 0., 3., 4., 0.],\n",
       "        [0., 0., 0., 0., 1., 2., 0., 3., 4.]])"
      ]
     },
     "execution_count": 9,
     "metadata": {},
     "output_type": "execute_result"
    }
   ],
   "source": [
    "def kernel2matrix(K):\n",
    "    k, W = torch.zeros(5), torch.zeros((4, 9))\n",
    "    k[:2], k[3:5] = K[0, :], K[1, :]\n",
    "    W[0, :5], W[1, 1:6], W[2, 3:8], W[3, 4:] = k, k, k, k\n",
    "    return W\n",
    "\n",
    "W = kernel2matrix(K)\n",
    "W"
   ]
  },
  {
   "cell_type": "code",
   "execution_count": 10,
   "id": "1fb803d0",
   "metadata": {
    "execution": {
     "iopub.execute_input": "2023-08-18T07:05:24.606249Z",
     "iopub.status.busy": "2023-08-18T07:05:24.605496Z",
     "iopub.status.idle": "2023-08-18T07:05:24.612872Z",
     "shell.execute_reply": "2023-08-18T07:05:24.611900Z"
    },
    "origin_pos": 31,
    "tab": [
     "pytorch"
    ]
   },
   "outputs": [
    {
     "data": {
      "text/plain": [
       "tensor([[True, True],\n",
       "        [True, True]])"
      ]
     },
     "execution_count": 10,
     "metadata": {},
     "output_type": "execute_result"
    }
   ],
   "source": [
    "Y == torch.matmul(W, X.reshape(-1)).reshape(2, 2)"
   ]
  },
  {
   "cell_type": "code",
   "execution_count": 11,
   "id": "f1a55ff1",
   "metadata": {
    "execution": {
     "iopub.execute_input": "2023-08-18T07:05:24.616575Z",
     "iopub.status.busy": "2023-08-18T07:05:24.615826Z",
     "iopub.status.idle": "2023-08-18T07:05:24.623063Z",
     "shell.execute_reply": "2023-08-18T07:05:24.622144Z"
    },
    "origin_pos": 34,
    "tab": [
     "pytorch"
    ]
   },
   "outputs": [
    {
     "data": {
      "text/plain": [
       "tensor([[True, True, True],\n",
       "        [True, True, True],\n",
       "        [True, True, True]])"
      ]
     },
     "execution_count": 11,
     "metadata": {},
     "output_type": "execute_result"
    }
   ],
   "source": [
    "Z = trans_conv(Y, K)\n",
    "Z == torch.matmul(W.T, Y.reshape(-1)).reshape(3, 3)"
   ]
  }
 ],
 "metadata": {
  "celltoolbar": "Slideshow",
  "language_info": {
   "name": "python"
  },
  "required_libs": [],
  "rise": {
   "autolaunch": true,
   "enable_chalkboard": true,
   "overlay": "<div class='my-top-right'><img height=80px src='http://d2l.ai/_static/logo-with-text.png'/></div><div class='my-top-left'></div>",
   "scroll": true
  }
 },
 "nbformat": 4,
 "nbformat_minor": 5
}