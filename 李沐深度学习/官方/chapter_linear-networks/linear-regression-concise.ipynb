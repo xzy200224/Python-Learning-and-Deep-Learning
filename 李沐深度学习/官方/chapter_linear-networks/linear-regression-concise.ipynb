{
 "cells": [
  {
   "cell_type": "markdown",
   "id": "a5b9ec6e",
   "metadata": {
    "slideshow": {
     "slide_type": "slide"
    }
   },
   "source": [
    "# 线性回归的简洁实现\n",
    "\n",
    "通过使用深度学习框架来简洁地实现\n",
    "线性回归模型\n",
    "生成数据集"
   ]
  },
  {
   "cell_type": "code",
   "execution_count": 1,
   "id": "c26b741f",
   "metadata": {
    "execution": {
     "iopub.execute_input": "2023-08-18T07:01:54.616404Z",
     "iopub.status.busy": "2023-08-18T07:01:54.615685Z",
     "iopub.status.idle": "2023-08-18T07:01:54.643472Z",
     "shell.execute_reply": "2023-08-18T07:01:54.642512Z"
    },
    "origin_pos": 5,
    "tab": [
     "pytorch"
    ]
   },
   "outputs": [],
   "source": [
    "import numpy as np\n",
    "import torch\n",
    "from torch.utils import data\n",
    "from d2l import torch as d2l\n",
    "\n",
    "true_w = torch.tensor([2, -3.4])\n",
    "true_b = 4.2\n",
    "features, labels = d2l.synthetic_data(true_w, true_b, 1000)"
   ]
  },
  {
   "cell_type": "markdown",
   "id": "25eda004",
   "metadata": {
    "slideshow": {
     "slide_type": "slide"
    }
   },
   "source": [
    "我们可以调用框架中现有的API来读取数据。 我们将features和labels作为API的参数传递，并通过数据迭代器指定batch_size。 此外，布尔值is_train表示是否希望数据迭代器对象在每个迭代周期内打乱数据。"
   ]
  },
  {
   "cell_type": "code",
   "execution_count": 2,
   "id": "7c6919b8",
   "metadata": {
    "execution": {
     "iopub.execute_input": "2023-08-18T07:01:54.665574Z",
     "iopub.status.busy": "2023-08-18T07:01:54.664999Z",
     "iopub.status.idle": "2023-08-18T07:01:54.673523Z",
     "shell.execute_reply": "2023-08-18T07:01:54.672688Z"
    },
    "origin_pos": 13,
    "tab": [
     "pytorch"
    ]
   },
   "outputs": [
    {
     "data": {
      "text/plain": [
       "[tensor([[-0.3435, -0.6573],\n",
       "         [-2.0744, -0.7294],\n",
       "         [ 0.1161,  0.1560],\n",
       "         [-0.0672, -1.4114],\n",
       "         [-1.9267,  0.2454],\n",
       "         [ 0.2276, -1.6785],\n",
       "         [-1.5299, -1.0378],\n",
       "         [-0.7201,  0.1732],\n",
       "         [-0.0252,  1.3207],\n",
       "         [ 0.8270,  0.6098]]),\n",
       " tensor([[ 5.7377],\n",
       "         [ 2.5442],\n",
       "         [ 3.8839],\n",
       "         [ 8.8757],\n",
       "         [-0.4795],\n",
       "         [10.3540],\n",
       "         [ 4.6887],\n",
       "         [ 2.1545],\n",
       "         [-0.3436],\n",
       "         [ 3.7801]])]"
      ]
     },
     "execution_count": 2,
     "metadata": {},
     "output_type": "execute_result"
    }
   ],
   "source": [
    "def load_array(data_arrays, batch_size, is_train=True):  \n",
    "    \"\"\"构造一个PyTorch数据迭代器\"\"\"\n",
    "    # 创建dataset\n",
    "    dataset = data.TensorDataset(*data_arrays)\n",
    "    # 返回dataloader\n",
    "    return data.DataLoader(dataset, batch_size, shuffle=is_train)\n",
    "\n",
    "batch_size = 10\n",
    "data_iter = load_array((features, labels), batch_size)\n",
    "\n",
    "next(iter(data_iter))"
   ]
  },
  {
   "cell_type": "markdown",
   "id": "b4c6012b",
   "metadata": {
    "slideshow": {
     "slide_type": "slide"
    }
   },
   "source": [
    "使用框架的预定义好的层\n",
    "\n",
    "在PyTorch中，全连接层在Linear类中定义。 值得注意的是，我们将两个参数传递到nn.Linear中。 第一个指定输入特征形状，即2，第二个指定输出特征形状，输出特征形状为单个标量，因此为1。"
   ]
  },
  {
   "cell_type": "code",
   "execution_count": 6,
   "id": "85c54a1a",
   "metadata": {
    "execution": {
     "iopub.execute_input": "2023-08-18T07:01:54.677177Z",
     "iopub.status.busy": "2023-08-18T07:01:54.676580Z",
     "iopub.status.idle": "2023-08-18T07:01:54.680914Z",
     "shell.execute_reply": "2023-08-18T07:01:54.680130Z"
    },
    "origin_pos": 20,
    "tab": [
     "pytorch"
    ]
   },
   "outputs": [],
   "source": [
    "from torch import nn\n",
    "\n",
    "net = nn.Sequential(nn.Linear(2, 1))"
   ]
  },
  {
   "cell_type": "markdown",
   "id": "9bf96a4d",
   "metadata": {
    "slideshow": {
     "slide_type": "-"
    }
   },
   "source": [
    "在使用net之前，我们需要初始化模型参数。 如在线性回归模型中的权重和偏置。 深度学习框架通常有预定义的方法来初始化参数。 在这里，我们指定每个权重参数应该从均值为0、标准差为0.01的正态分布中随机采样， 偏置参数将初始化为零。\n",
    "\n",
    "正如我们在构造nn.Linear时指定输入和输出尺寸一样， 现在我们能直接访问参数以设定它们的初始值。 我们通过net[0]选择网络中的第一个图层， 然后使用weight.data和bias.data方法访问参数。 我们还可以使用替换方法normal_和fill_来重写参数值。"
   ]
  },
  {
   "cell_type": "code",
   "execution_count": 7,
   "id": "31716c55",
   "metadata": {
    "execution": {
     "iopub.execute_input": "2023-08-18T07:01:54.684561Z",
     "iopub.status.busy": "2023-08-18T07:01:54.684036Z",
     "iopub.status.idle": "2023-08-18T07:01:54.690673Z",
     "shell.execute_reply": "2023-08-18T07:01:54.689754Z"
    },
    "origin_pos": 29,
    "tab": [
     "pytorch"
    ]
   },
   "outputs": [
    {
     "data": {
      "text/plain": [
       "tensor([0.])"
      ]
     },
     "execution_count": 7,
     "metadata": {},
     "output_type": "execute_result"
    }
   ],
   "source": [
    "net[0].weight.data.normal_(0, 0.01) # 设置权重,即w\n",
    "net[0].bias.data.fill_(0)   # 设置偏置项，即b"
   ]
  },
  {
   "cell_type": "markdown",
   "id": "11c01887",
   "metadata": {
    "slideshow": {
     "slide_type": "slide"
    }
   },
   "source": [
    "计算均方误差使用的是`MSELoss`类，也称为平方$L_2$范数"
   ]
  },
  {
   "cell_type": "code",
   "execution_count": 8,
   "id": "19a417ac",
   "metadata": {
    "execution": {
     "iopub.execute_input": "2023-08-18T07:01:54.695575Z",
     "iopub.status.busy": "2023-08-18T07:01:54.694922Z",
     "iopub.status.idle": "2023-08-18T07:01:54.699373Z",
     "shell.execute_reply": "2023-08-18T07:01:54.698348Z"
    },
    "origin_pos": 41,
    "tab": [
     "pytorch"
    ]
   },
   "outputs": [],
   "source": [
    "loss = nn.MSELoss()"
   ]
  },
  {
   "cell_type": "markdown",
   "id": "68315d47",
   "metadata": {
    "slideshow": {
     "slide_type": "-"
    }
   },
   "source": [
    "小批量随机梯度下降算法是一种优化神经网络的标准工具， PyTorch在optim模块中实现了该算法的许多变种。 当我们实例化一个SGD实例时，我们要指定优化的参数 （可通过net.parameters()从我们的模型中获得）以及优化算法所需的超参数字典。 小批量随机梯度下降只需要设置lr值，这里设置为0.03。"
   ]
  },
  {
   "cell_type": "code",
   "execution_count": 9,
   "id": "1ae0989f",
   "metadata": {
    "execution": {
     "iopub.execute_input": "2023-08-18T07:01:54.703905Z",
     "iopub.status.busy": "2023-08-18T07:01:54.703368Z",
     "iopub.status.idle": "2023-08-18T07:01:54.708081Z",
     "shell.execute_reply": "2023-08-18T07:01:54.706987Z"
    },
    "origin_pos": 50,
    "tab": [
     "pytorch"
    ]
   },
   "outputs": [],
   "source": [
    "trainer = torch.optim.SGD(net.parameters(), lr=0.03)"
   ]
  },
  {
   "cell_type": "markdown",
   "id": "d5991157",
   "metadata": {
    "slideshow": {
     "slide_type": "slide"
    }
   },
   "source": [
    "通过深度学习框架的高级API来实现我们的模型只需要相对较少的代码。 我们不必单独分配参数、不必定义我们的损失函数，也不必手动实现小批量随机梯度下降。 当我们需要更复杂的模型时，高级API的优势将大大增加。 当我们有了所有的基本组件，训练过程代码与我们从零开始实现时所做的非常相似。\n",
    "\n",
    "回顾一下：在每个迭代周期里，我们将完整遍历一次数据集（train_data）， 不停地从中获取一个小批量的输入和相应的标签。 对于每一个小批量，我们会进行以下步骤:\n",
    "\n",
    "通过调用net(X)生成预测并计算损失l（前向传播）。\n",
    "\n",
    "通过进行反向传播来计算梯度。\n",
    "\n",
    "通过调用优化器来更新模型参数。\n",
    "\n",
    "为了更好的衡量训练效果，我们计算每个迭代周期后的损失，并打印它来监控训练过程。"
   ]
  },
  {
   "cell_type": "code",
   "execution_count": 13,
   "id": "1270d706",
   "metadata": {
    "execution": {
     "iopub.execute_input": "2023-08-18T07:01:54.712705Z",
     "iopub.status.busy": "2023-08-18T07:01:54.712113Z",
     "iopub.status.idle": "2023-08-18T07:01:54.922720Z",
     "shell.execute_reply": "2023-08-18T07:01:54.921580Z"
    },
    "origin_pos": 55,
    "tab": [
     "pytorch"
    ]
   },
   "outputs": [
    {
     "name": "stdout",
     "output_type": "stream",
     "text": [
      "epoch 1, loss 0.000095\n",
      "epoch 2, loss 0.000096\n",
      "epoch 3, loss 0.000095\n"
     ]
    }
   ],
   "source": [
    "num_epochs = 3\n",
    "for epoch in range(num_epochs):\n",
    "    for X, y in data_iter:\n",
    "        l = loss(net(X) ,y)\n",
    "        trainer.zero_grad() # 梯度清零，用于防止梯度累积\n",
    "        l.backward()    # 计算梯度\n",
    "        trainer.step()  # 更新参数\n",
    "    with torch.no_grad():\n",
    "        l = loss(net(features), labels)\n",
    "        print(f'epoch {epoch + 1}, loss {l:f}')"
   ]
  },
  {
   "cell_type": "markdown",
   "id": "7c8e4f61",
   "metadata": {
    "slideshow": {
     "slide_type": "slide"
    }
   },
   "source": [
    "下面我们比较生成数据集的真实参数和通过有限数据训练获得的模型参数。 要访问参数，我们首先从net访问所需的层，然后读取该层的权重和偏置。 正如在从零开始实现中一样，我们估计得到的参数与生成数据的真实参数非常接近。"
   ]
  },
  {
   "cell_type": "code",
   "execution_count": 15,
   "id": "aa7cef5a",
   "metadata": {
    "execution": {
     "iopub.execute_input": "2023-08-18T07:01:54.927464Z",
     "iopub.status.busy": "2023-08-18T07:01:54.927072Z",
     "iopub.status.idle": "2023-08-18T07:01:54.935672Z",
     "shell.execute_reply": "2023-08-18T07:01:54.934585Z"
    },
    "origin_pos": 60,
    "tab": [
     "pytorch"
    ]
   },
   "outputs": [
    {
     "name": "stdout",
     "output_type": "stream",
     "text": [
      "w的估计误差： tensor([ 0.0005, -0.0002])\n",
      "b的估计误差： tensor([-0.0003])\n"
     ]
    }
   ],
   "source": [
    "w = net[0].weight.data\n",
    "print('w的估计误差：', true_w - w.reshape(true_w.shape))\n",
    "b = net[0].bias.data\n",
    "print('b的估计误差：', true_b - b)"
   ]
  },
  {
   "cell_type": "markdown",
   "id": "b8503774",
   "metadata": {},
   "source": [
    "## 练习\n",
    "如果我们用nn.MSELoss(reduction=‘sum’)替换 ，nn.MSELoss（）”为了使代码的行为相同，需要怎么更改学习速率？为什么？\n",
    "\n",
    "答：应该把学习率除以batch_size，因为默认参数是’mean’，换成’sum’需要除以批量数，一般会采用默认，因为这样学习率可以跟batch_size解耦"
   ]
  }
 ],
 "metadata": {
  "celltoolbar": "Slideshow",
  "kernelspec": {
   "display_name": "pytorch",
   "language": "python",
   "name": "python3"
  },
  "language_info": {
   "codemirror_mode": {
    "name": "ipython",
    "version": 3
   },
   "file_extension": ".py",
   "mimetype": "text/x-python",
   "name": "python",
   "nbconvert_exporter": "python",
   "pygments_lexer": "ipython3",
   "version": "3.11.7"
  },
  "required_libs": [],
  "rise": {
   "autolaunch": true,
   "enable_chalkboard": true,
   "overlay": "<div class='my-top-right'><img height=80px src='http://d2l.ai/_static/logo-with-text.png'/></div><div class='my-top-left'></div>",
   "scroll": true
  }
 },
 "nbformat": 4,
 "nbformat_minor": 5
}
