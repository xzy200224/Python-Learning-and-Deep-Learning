{
 "cells": [
  {
   "cell_type": "markdown",
   "id": "a5b9ec6e",
   "metadata": {
    "slideshow": {
     "slide_type": "slide"
    }
   },
   "source": [
    "# 线性回归的简洁实现\n",
    "\n",
    "通过使用深度学习框架来简洁地实现\n",
    "线性回归模型\n",
    "生成数据集"
   ]
  },
  {
   "cell_type": "code",
   "execution_count": 2,
   "id": "c26b741f",
   "metadata": {
    "execution": {
     "iopub.execute_input": "2023-08-18T07:01:54.616404Z",
     "iopub.status.busy": "2023-08-18T07:01:54.615685Z",
     "iopub.status.idle": "2023-08-18T07:01:54.643472Z",
     "shell.execute_reply": "2023-08-18T07:01:54.642512Z"
    },
    "origin_pos": 5,
    "tab": [
     "pytorch"
    ]
   },
   "outputs": [],
   "source": [
    "import numpy as np\n",
    "import torch\n",
    "from torch.utils import data\n",
    "from d2l import torch as d2l\n",
    "\n",
    "true_w = torch.tensor([2, -3.4])\n",
    "true_b = 4.2\n",
    "features, labels = d2l.synthetic_data(true_w, true_b, 1000)"
   ]
  },
  {
   "cell_type": "markdown",
   "id": "25eda004",
   "metadata": {
    "slideshow": {
     "slide_type": "slide"
    }
   },
   "source": [
    "调用框架中现有的API来读取数据"
   ]
  },
  {
   "cell_type": "code",
   "execution_count": 5,
   "id": "7c6919b8",
   "metadata": {
    "execution": {
     "iopub.execute_input": "2023-08-18T07:01:54.665574Z",
     "iopub.status.busy": "2023-08-18T07:01:54.664999Z",
     "iopub.status.idle": "2023-08-18T07:01:54.673523Z",
     "shell.execute_reply": "2023-08-18T07:01:54.672688Z"
    },
    "origin_pos": 13,
    "tab": [
     "pytorch"
    ]
   },
   "outputs": [
    {
     "data": {
      "text/plain": [
       "[tensor([[-1.3116, -0.3062],\n",
       "         [-1.5653,  0.4830],\n",
       "         [-0.8893, -0.9466],\n",
       "         [-1.2417,  1.6891],\n",
       "         [-0.7148,  0.1376],\n",
       "         [-0.2162, -0.6122],\n",
       "         [ 2.4048, -0.3211],\n",
       "         [-0.1516,  0.4997],\n",
       "         [ 1.5298, -0.2291],\n",
       "         [ 1.3895,  1.2602]]),\n",
       " tensor([[ 2.6073],\n",
       "         [-0.5787],\n",
       "         [ 5.6339],\n",
       "         [-4.0211],\n",
       "         [ 2.3117],\n",
       "         [ 5.8492],\n",
       "         [10.0926],\n",
       "         [ 2.1932],\n",
       "         [ 8.0441],\n",
       "         [ 2.6943]])]"
      ]
     },
     "execution_count": 5,
     "metadata": {},
     "output_type": "execute_result"
    }
   ],
   "source": [
    "def load_array(data_arrays, batch_size, is_train=True):  \n",
    "    \"\"\"构造一个PyTorch数据迭代器\"\"\"\n",
    "    dataset = data.TensorDataset(*data_arrays)\n",
    "    return data.DataLoader(dataset, batch_size, shuffle=is_train)\n",
    "\n",
    "batch_size = 10\n",
    "data_iter = load_array((features, labels), batch_size)\n",
    "\n",
    "next(iter(data_iter))"
   ]
  },
  {
   "cell_type": "markdown",
   "id": "b4c6012b",
   "metadata": {
    "slideshow": {
     "slide_type": "slide"
    }
   },
   "source": [
    "使用框架的预定义好的层"
   ]
  },
  {
   "cell_type": "code",
   "execution_count": 6,
   "id": "85c54a1a",
   "metadata": {
    "execution": {
     "iopub.execute_input": "2023-08-18T07:01:54.677177Z",
     "iopub.status.busy": "2023-08-18T07:01:54.676580Z",
     "iopub.status.idle": "2023-08-18T07:01:54.680914Z",
     "shell.execute_reply": "2023-08-18T07:01:54.680130Z"
    },
    "origin_pos": 20,
    "tab": [
     "pytorch"
    ]
   },
   "outputs": [],
   "source": [
    "from torch import nn\n",
    "\n",
    "net = nn.Sequential(nn.Linear(2, 1))"
   ]
  },
  {
   "cell_type": "markdown",
   "id": "9bf96a4d",
   "metadata": {
    "slideshow": {
     "slide_type": "-"
    }
   },
   "source": [
    "初始化模型参数"
   ]
  },
  {
   "cell_type": "code",
   "execution_count": 7,
   "id": "31716c55",
   "metadata": {
    "execution": {
     "iopub.execute_input": "2023-08-18T07:01:54.684561Z",
     "iopub.status.busy": "2023-08-18T07:01:54.684036Z",
     "iopub.status.idle": "2023-08-18T07:01:54.690673Z",
     "shell.execute_reply": "2023-08-18T07:01:54.689754Z"
    },
    "origin_pos": 29,
    "tab": [
     "pytorch"
    ]
   },
   "outputs": [
    {
     "data": {
      "text/plain": [
       "tensor([0.])"
      ]
     },
     "execution_count": 7,
     "metadata": {},
     "output_type": "execute_result"
    }
   ],
   "source": [
    "net[0].weight.data.normal_(0, 0.01)\n",
    "net[0].bias.data.fill_(0)"
   ]
  },
  {
   "cell_type": "markdown",
   "id": "11c01887",
   "metadata": {
    "slideshow": {
     "slide_type": "slide"
    }
   },
   "source": [
    "计算均方误差使用的是`MSELoss`类，也称为平方$L_2$范数"
   ]
  },
  {
   "cell_type": "code",
   "execution_count": 8,
   "id": "19a417ac",
   "metadata": {
    "execution": {
     "iopub.execute_input": "2023-08-18T07:01:54.695575Z",
     "iopub.status.busy": "2023-08-18T07:01:54.694922Z",
     "iopub.status.idle": "2023-08-18T07:01:54.699373Z",
     "shell.execute_reply": "2023-08-18T07:01:54.698348Z"
    },
    "origin_pos": 41,
    "tab": [
     "pytorch"
    ]
   },
   "outputs": [],
   "source": [
    "loss = nn.MSELoss()"
   ]
  },
  {
   "cell_type": "markdown",
   "id": "68315d47",
   "metadata": {
    "slideshow": {
     "slide_type": "-"
    }
   },
   "source": [
    "实例化一个`SGD`实例"
   ]
  },
  {
   "cell_type": "code",
   "execution_count": 9,
   "id": "1ae0989f",
   "metadata": {
    "execution": {
     "iopub.execute_input": "2023-08-18T07:01:54.703905Z",
     "iopub.status.busy": "2023-08-18T07:01:54.703368Z",
     "iopub.status.idle": "2023-08-18T07:01:54.708081Z",
     "shell.execute_reply": "2023-08-18T07:01:54.706987Z"
    },
    "origin_pos": 50,
    "tab": [
     "pytorch"
    ]
   },
   "outputs": [],
   "source": [
    "trainer = torch.optim.SGD(net.parameters(), lr=0.03)"
   ]
  },
  {
   "cell_type": "markdown",
   "id": "d5991157",
   "metadata": {
    "slideshow": {
     "slide_type": "slide"
    }
   },
   "source": [
    "训练过程代码与我们从零开始实现时所做的非常相似"
   ]
  },
  {
   "cell_type": "code",
   "execution_count": 10,
   "id": "1270d706",
   "metadata": {
    "execution": {
     "iopub.execute_input": "2023-08-18T07:01:54.712705Z",
     "iopub.status.busy": "2023-08-18T07:01:54.712113Z",
     "iopub.status.idle": "2023-08-18T07:01:54.922720Z",
     "shell.execute_reply": "2023-08-18T07:01:54.921580Z"
    },
    "origin_pos": 55,
    "tab": [
     "pytorch"
    ]
   },
   "outputs": [
    {
     "name": "stdout",
     "output_type": "stream",
     "text": [
      "epoch 1, loss 0.000248\n",
      "epoch 2, loss 0.000103\n",
      "epoch 3, loss 0.000103\n"
     ]
    }
   ],
   "source": [
    "num_epochs = 3\n",
    "for epoch in range(num_epochs):\n",
    "    for X, y in data_iter:\n",
    "        l = loss(net(X) ,y)\n",
    "        trainer.zero_grad()\n",
    "        l.backward()\n",
    "        trainer.step()\n",
    "    l = loss(net(features), labels)\n",
    "    print(f'epoch {epoch + 1}, loss {l:f}')"
   ]
  },
  {
   "cell_type": "markdown",
   "id": "7c8e4f61",
   "metadata": {
    "slideshow": {
     "slide_type": "slide"
    }
   },
   "source": [
    "比较生成数据集的真实参数和通过有限数据训练获得的模型参数"
   ]
  },
  {
   "cell_type": "code",
   "execution_count": 11,
   "id": "aa7cef5a",
   "metadata": {
    "execution": {
     "iopub.execute_input": "2023-08-18T07:01:54.927464Z",
     "iopub.status.busy": "2023-08-18T07:01:54.927072Z",
     "iopub.status.idle": "2023-08-18T07:01:54.935672Z",
     "shell.execute_reply": "2023-08-18T07:01:54.934585Z"
    },
    "origin_pos": 60,
    "tab": [
     "pytorch"
    ]
   },
   "outputs": [
    {
     "name": "stdout",
     "output_type": "stream",
     "text": [
      "w的估计误差： tensor([-0.0010, -0.0003])\n",
      "b的估计误差： tensor([-0.0003])\n"
     ]
    }
   ],
   "source": [
    "w = net[0].weight.data\n",
    "print('w的估计误差：', true_w - w.reshape(true_w.shape))\n",
    "b = net[0].bias.data\n",
    "print('b的估计误差：', true_b - b)"
   ]
  }
 ],
 "metadata": {
  "celltoolbar": "Slideshow",
  "language_info": {
   "name": "python"
  },
  "required_libs": [],
  "rise": {
   "autolaunch": true,
   "enable_chalkboard": true,
   "overlay": "<div class='my-top-right'><img height=80px src='http://d2l.ai/_static/logo-with-text.png'/></div><div class='my-top-left'></div>",
   "scroll": true
  }
 },
 "nbformat": 4,
 "nbformat_minor": 5
}