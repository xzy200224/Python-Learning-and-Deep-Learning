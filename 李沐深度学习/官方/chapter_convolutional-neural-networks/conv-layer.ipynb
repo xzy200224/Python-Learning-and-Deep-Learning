{
 "cells": [
  {
   "cell_type": "markdown",
   "id": "50832220",
   "metadata": {
    "slideshow": {
     "slide_type": "-"
    }
   },
   "source": [
    "# 图像卷积\n",
    "\n",
    "互相关运算"
   ]
  },
  {
   "cell_type": "code",
   "execution_count": 2,
   "id": "16abe7ca",
   "metadata": {
    "execution": {
     "iopub.execute_input": "2023-08-18T07:07:28.563668Z",
     "iopub.status.busy": "2023-08-18T07:07:28.562986Z",
     "iopub.status.idle": "2023-08-18T07:07:28.569424Z",
     "shell.execute_reply": "2023-08-18T07:07:28.568319Z"
    },
    "origin_pos": 4,
    "tab": [
     "pytorch"
    ]
   },
   "outputs": [],
   "source": [
    "import torch\n",
    "from torch import nn\n",
    "from d2l import torch as d2l\n",
    "\n",
    "def corr2d(X, K):  \n",
    "    \"\"\"计算二维互相关运算\"\"\"\n",
    "    h, w = K.shape\n",
    "    Y = torch.zeros((X.shape[0] - h + 1, X.shape[1] - w + 1))\n",
    "    for i in range(Y.shape[0]):\n",
    "        for j in range(Y.shape[1]):\n",
    "            Y[i, j] = (X[i:i + h, j:j + w] * K).sum()\n",
    "    return Y"
   ]
  },
  {
   "cell_type": "markdown",
   "id": "42171987",
   "metadata": {
    "slideshow": {
     "slide_type": "slide"
    }
   },
   "source": [
    "验证上述二维互相关运算的输出"
   ]
  },
  {
   "cell_type": "code",
   "execution_count": 3,
   "id": "6f84e512",
   "metadata": {
    "execution": {
     "iopub.execute_input": "2023-08-18T07:07:28.572958Z",
     "iopub.status.busy": "2023-08-18T07:07:28.572449Z",
     "iopub.status.idle": "2023-08-18T07:07:28.604854Z",
     "shell.execute_reply": "2023-08-18T07:07:28.603813Z"
    },
    "origin_pos": 7,
    "tab": [
     "pytorch"
    ]
   },
   "outputs": [
    {
     "data": {
      "text/plain": [
       "tensor([[19., 25.],\n",
       "        [37., 43.]])"
      ]
     },
     "execution_count": 3,
     "metadata": {},
     "output_type": "execute_result"
    }
   ],
   "source": [
    "X = torch.tensor([[0.0, 1.0, 2.0], [3.0, 4.0, 5.0], [6.0, 7.0, 8.0]])\n",
    "K = torch.tensor([[0.0, 1.0], [2.0, 3.0]])\n",
    "corr2d(X, K)"
   ]
  },
  {
   "cell_type": "markdown",
   "id": "5abc9d97",
   "metadata": {
    "slideshow": {
     "slide_type": "slide"
    }
   },
   "source": [
    "实现二维卷积层"
   ]
  },
  {
   "cell_type": "code",
   "execution_count": 4,
   "id": "450def67",
   "metadata": {
    "execution": {
     "iopub.execute_input": "2023-08-18T07:07:28.610672Z",
     "iopub.status.busy": "2023-08-18T07:07:28.609819Z",
     "iopub.status.idle": "2023-08-18T07:07:28.615602Z",
     "shell.execute_reply": "2023-08-18T07:07:28.614632Z"
    },
    "origin_pos": 10,
    "tab": [
     "pytorch"
    ]
   },
   "outputs": [],
   "source": [
    "class Conv2D(nn.Module):\n",
    "    def __init__(self, kernel_size):\n",
    "        super().__init__()\n",
    "        self.weight = nn.Parameter(torch.rand(kernel_size))\n",
    "        self.bias = nn.Parameter(torch.zeros(1))\n",
    "\n",
    "    def forward(self, x):\n",
    "        return corr2d(x, self.weight) + self.bias"
   ]
  },
  {
   "cell_type": "markdown",
   "id": "c5b49b95",
   "metadata": {
    "slideshow": {
     "slide_type": "slide"
    }
   },
   "source": [
    "卷积层的一个简单应用：\n",
    "检测图像中不同颜色的边缘"
   ]
  },
  {
   "cell_type": "code",
   "execution_count": 5,
   "id": "dee1bc79",
   "metadata": {
    "execution": {
     "iopub.execute_input": "2023-08-18T07:07:28.620077Z",
     "iopub.status.busy": "2023-08-18T07:07:28.619277Z",
     "iopub.status.idle": "2023-08-18T07:07:28.626719Z",
     "shell.execute_reply": "2023-08-18T07:07:28.625746Z"
    },
    "origin_pos": 14,
    "tab": [
     "pytorch"
    ]
   },
   "outputs": [
    {
     "data": {
      "text/plain": [
       "tensor([[1., 1., 0., 0., 0., 0., 1., 1.],\n",
       "        [1., 1., 0., 0., 0., 0., 1., 1.],\n",
       "        [1., 1., 0., 0., 0., 0., 1., 1.],\n",
       "        [1., 1., 0., 0., 0., 0., 1., 1.],\n",
       "        [1., 1., 0., 0., 0., 0., 1., 1.],\n",
       "        [1., 1., 0., 0., 0., 0., 1., 1.]])"
      ]
     },
     "execution_count": 5,
     "metadata": {},
     "output_type": "execute_result"
    }
   ],
   "source": [
    "X = torch.ones((6, 8))\n",
    "X[:, 2:6] = 0\n",
    "X"
   ]
  },
  {
   "cell_type": "code",
   "execution_count": 6,
   "id": "d042bda0",
   "metadata": {
    "execution": {
     "iopub.execute_input": "2023-08-18T07:07:28.630101Z",
     "iopub.status.busy": "2023-08-18T07:07:28.629606Z",
     "iopub.status.idle": "2023-08-18T07:07:28.634133Z",
     "shell.execute_reply": "2023-08-18T07:07:28.633165Z"
    },
    "origin_pos": 17,
    "tab": [
     "pytorch"
    ]
   },
   "outputs": [],
   "source": [
    "K = torch.tensor([[1.0, -1.0]])"
   ]
  },
  {
   "cell_type": "markdown",
   "id": "02307562",
   "metadata": {
    "slideshow": {
     "slide_type": "slide"
    }
   },
   "source": [
    "输出`Y`中的1代表从白色到黑色的边缘，-1代表从黑色到白色的边缘"
   ]
  },
  {
   "cell_type": "code",
   "execution_count": 7,
   "id": "36de9e2a",
   "metadata": {
    "execution": {
     "iopub.execute_input": "2023-08-18T07:07:28.639056Z",
     "iopub.status.busy": "2023-08-18T07:07:28.638505Z",
     "iopub.status.idle": "2023-08-18T07:07:28.646532Z",
     "shell.execute_reply": "2023-08-18T07:07:28.645509Z"
    },
    "origin_pos": 19,
    "tab": [
     "pytorch"
    ]
   },
   "outputs": [
    {
     "data": {
      "text/plain": [
       "tensor([[ 0.,  1.,  0.,  0.,  0., -1.,  0.],\n",
       "        [ 0.,  1.,  0.,  0.,  0., -1.,  0.],\n",
       "        [ 0.,  1.,  0.,  0.,  0., -1.,  0.],\n",
       "        [ 0.,  1.,  0.,  0.,  0., -1.,  0.],\n",
       "        [ 0.,  1.,  0.,  0.,  0., -1.,  0.],\n",
       "        [ 0.,  1.,  0.,  0.,  0., -1.,  0.]])"
      ]
     },
     "execution_count": 7,
     "metadata": {},
     "output_type": "execute_result"
    }
   ],
   "source": [
    "Y = corr2d(X, K)\n",
    "Y"
   ]
  },
  {
   "cell_type": "markdown",
   "id": "f8fc54d3",
   "metadata": {
    "slideshow": {
     "slide_type": "slide"
    }
   },
   "source": [
    "卷积核`K`只可以检测垂直边缘"
   ]
  },
  {
   "cell_type": "code",
   "execution_count": 8,
   "id": "0a754b2d",
   "metadata": {
    "execution": {
     "iopub.execute_input": "2023-08-18T07:07:28.651371Z",
     "iopub.status.busy": "2023-08-18T07:07:28.650819Z",
     "iopub.status.idle": "2023-08-18T07:07:28.658419Z",
     "shell.execute_reply": "2023-08-18T07:07:28.657436Z"
    },
    "origin_pos": 21,
    "tab": [
     "pytorch"
    ]
   },
   "outputs": [
    {
     "data": {
      "text/plain": [
       "tensor([[0., 0., 0., 0., 0.],\n",
       "        [0., 0., 0., 0., 0.],\n",
       "        [0., 0., 0., 0., 0.],\n",
       "        [0., 0., 0., 0., 0.],\n",
       "        [0., 0., 0., 0., 0.],\n",
       "        [0., 0., 0., 0., 0.],\n",
       "        [0., 0., 0., 0., 0.],\n",
       "        [0., 0., 0., 0., 0.]])"
      ]
     },
     "execution_count": 8,
     "metadata": {},
     "output_type": "execute_result"
    }
   ],
   "source": [
    "corr2d(X.t(), K)"
   ]
  },
  {
   "cell_type": "markdown",
   "id": "d3c3d2e5",
   "metadata": {
    "slideshow": {
     "slide_type": "slide"
    }
   },
   "source": [
    "学习由`X`生成`Y`的卷积核"
   ]
  },
  {
   "cell_type": "code",
   "execution_count": 9,
   "id": "2b423578",
   "metadata": {
    "execution": {
     "iopub.execute_input": "2023-08-18T07:07:28.662260Z",
     "iopub.status.busy": "2023-08-18T07:07:28.661527Z",
     "iopub.status.idle": "2023-08-18T07:07:28.681412Z",
     "shell.execute_reply": "2023-08-18T07:07:28.680192Z"
    },
    "origin_pos": 24,
    "tab": [
     "pytorch"
    ]
   },
   "outputs": [
    {
     "name": "stdout",
     "output_type": "stream",
     "text": [
      "epoch 2, loss 6.422\n",
      "epoch 4, loss 1.225\n",
      "epoch 6, loss 0.266\n",
      "epoch 8, loss 0.070\n",
      "epoch 10, loss 0.022\n"
     ]
    }
   ],
   "source": [
    "conv2d = nn.Conv2d(1,1, kernel_size=(1, 2), bias=False)\n",
    "\n",
    "X = X.reshape((1, 1, 6, 8))\n",
    "Y = Y.reshape((1, 1, 6, 7))\n",
    "lr = 3e-2\n",
    "\n",
    "for i in range(10):\n",
    "    Y_hat = conv2d(X)\n",
    "    l = (Y_hat - Y) ** 2\n",
    "    conv2d.zero_grad()\n",
    "    l.sum().backward()\n",
    "    conv2d.weight.data[:] -= lr * conv2d.weight.grad\n",
    "    if (i + 1) % 2 == 0:\n",
    "        print(f'epoch {i+1}, loss {l.sum():.3f}')"
   ]
  },
  {
   "cell_type": "markdown",
   "id": "292614cd",
   "metadata": {
    "slideshow": {
     "slide_type": "slide"
    }
   },
   "source": [
    "所学的卷积核的权重张量"
   ]
  },
  {
   "cell_type": "code",
   "execution_count": 10,
   "id": "b40515e8",
   "metadata": {
    "execution": {
     "iopub.execute_input": "2023-08-18T07:07:28.684721Z",
     "iopub.status.busy": "2023-08-18T07:07:28.684428Z",
     "iopub.status.idle": "2023-08-18T07:07:28.691507Z",
     "shell.execute_reply": "2023-08-18T07:07:28.690512Z"
    },
    "origin_pos": 29,
    "tab": [
     "pytorch"
    ]
   },
   "outputs": [
    {
     "data": {
      "text/plain": [
       "tensor([[ 1.0010, -0.9739]])"
      ]
     },
     "execution_count": 10,
     "metadata": {},
     "output_type": "execute_result"
    }
   ],
   "source": [
    "conv2d.weight.data.reshape((1, 2))"
   ]
  }
 ],
 "metadata": {
  "celltoolbar": "Slideshow",
  "language_info": {
   "name": "python"
  },
  "required_libs": [],
  "rise": {
   "autolaunch": true,
   "enable_chalkboard": true,
   "overlay": "<div class='my-top-right'><img height=80px src='http://d2l.ai/_static/logo-with-text.png'/></div><div class='my-top-left'></div>",
   "scroll": true
  }
 },
 "nbformat": 4,
 "nbformat_minor": 5
}