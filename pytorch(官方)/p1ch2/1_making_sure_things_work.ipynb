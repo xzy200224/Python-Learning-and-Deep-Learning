{
 "cells": [
  {
   "cell_type": "code",
   "execution_count": 1,
   "metadata": {
    "ExecuteTime": {
     "end_time": "2024-03-29T08:30:08.701782Z",
     "start_time": "2024-03-29T08:30:00.421642Z"
    }
   },
   "outputs": [],
   "source": [
    "import torch\n"
   ]
  },
  {
   "cell_type": "code",
   "execution_count": 2,
   "metadata": {
    "ExecuteTime": {
     "end_time": "2024-03-29T08:30:08.709586Z",
     "start_time": "2024-03-29T08:30:08.703134Z"
    }
   },
   "outputs": [
    {
     "data": {
      "text/plain": "'2.2.0+cu118'"
     },
     "execution_count": 2,
     "metadata": {},
     "output_type": "execute_result"
    }
   ],
   "source": [
    "torch.version.__version__   #版本"
   ]
  },
  {
   "cell_type": "code",
   "execution_count": 3,
   "metadata": {
    "ExecuteTime": {
     "end_time": "2024-03-29T08:30:08.718618Z",
     "start_time": "2024-03-29T08:30:08.709586Z"
    }
   },
   "outputs": [],
   "source": [
    "a = torch.ones(3,3) #3X3矩阵"
   ]
  },
  {
   "cell_type": "code",
   "execution_count": 4,
   "metadata": {
    "ExecuteTime": {
     "end_time": "2024-03-29T08:30:08.723327Z",
     "start_time": "2024-03-29T08:30:08.719625Z"
    }
   },
   "outputs": [],
   "source": [
    "b = torch.ones(3,3)"
   ]
  },
  {
   "cell_type": "code",
   "execution_count": 5,
   "metadata": {
    "ExecuteTime": {
     "end_time": "2024-03-29T08:30:08.757575Z",
     "start_time": "2024-03-29T08:30:08.725338Z"
    }
   },
   "outputs": [
    {
     "data": {
      "text/plain": "tensor([[2., 2., 2.],\n        [2., 2., 2.],\n        [2., 2., 2.]])"
     },
     "execution_count": 5,
     "metadata": {},
     "output_type": "execute_result"
    }
   ],
   "source": [
    "a + b"
   ]
  },
  {
   "cell_type": "code",
   "execution_count": 6,
   "metadata": {
    "ExecuteTime": {
     "end_time": "2024-03-29T08:30:10.309779Z",
     "start_time": "2024-03-29T08:30:08.758583Z"
    }
   },
   "outputs": [
    {
     "data": {
      "text/plain": "tensor([[2., 2., 2.],\n        [2., 2., 2.],\n        [2., 2., 2.]], device='cuda:0')"
     },
     "execution_count": 6,
     "metadata": {},
     "output_type": "execute_result"
    }
   ],
   "source": [
    "a = a.to('cuda')    #转维GPU\n",
    "b = b.to('cuda')\n",
    "a + b"
   ]
  },
  {
   "cell_type": "code",
   "execution_count": 6,
   "metadata": {
    "ExecuteTime": {
     "end_time": "2024-03-29T08:30:10.312835Z",
     "start_time": "2024-03-29T08:30:10.309779Z"
    }
   },
   "outputs": [],
   "source": []
  }
 ],
 "metadata": {
  "kernelspec": {
   "display_name": "Python 3",
   "language": "python",
   "name": "python3"
  },
  "language_info": {
   "codemirror_mode": {
    "name": "ipython",
    "version": 3
   },
   "file_extension": ".py",
   "mimetype": "text/x-python",
   "name": "python",
   "nbconvert_exporter": "python",
   "pygments_lexer": "ipython3",
   "version": "3.8.18"
  }
 },
 "nbformat": 4,
 "nbformat_minor": 2
}
